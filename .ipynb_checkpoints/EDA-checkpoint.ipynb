{
 "cells": [
  {
   "cell_type": "code",
   "execution_count": 3,
   "metadata": {},
   "outputs": [],
   "source": [
    "import pandas as pd\n",
    "import numpy as np\n",
    "import matplotlib.pyplot as plt"
   ]
  },
  {
   "cell_type": "markdown",
   "metadata": {},
   "source": [
    "# Republicans"
   ]
  },
  {
   "cell_type": "code",
   "execution_count": 4,
   "metadata": {},
   "outputs": [
    {
     "data": {
      "text/html": [
       "<div>\n",
       "<style scoped>\n",
       "    .dataframe tbody tr th:only-of-type {\n",
       "        vertical-align: middle;\n",
       "    }\n",
       "\n",
       "    .dataframe tbody tr th {\n",
       "        vertical-align: top;\n",
       "    }\n",
       "\n",
       "    .dataframe thead th {\n",
       "        text-align: right;\n",
       "    }\n",
       "</style>\n",
       "<table border=\"1\" class=\"dataframe\">\n",
       "  <thead>\n",
       "    <tr style=\"text-align: right;\">\n",
       "      <th></th>\n",
       "      <th>Candidate</th>\n",
       "      <th>State</th>\n",
       "      <th>District</th>\n",
       "      <th>Office Type</th>\n",
       "      <th>Race Type</th>\n",
       "      <th>Race Primary Election Date</th>\n",
       "      <th>Primary Status</th>\n",
       "      <th>Primary Runoff Status</th>\n",
       "      <th>General Status</th>\n",
       "      <th>Primary %</th>\n",
       "      <th>...</th>\n",
       "      <th>NRA Endorsed?</th>\n",
       "      <th>Right to Life Endorsed?</th>\n",
       "      <th>Susan B. Anthony Endorsed?</th>\n",
       "      <th>Club for Growth Endorsed?</th>\n",
       "      <th>Koch Support?</th>\n",
       "      <th>House Freedom Support?</th>\n",
       "      <th>Tea Party Endorsed?</th>\n",
       "      <th>Main Street Endorsed?</th>\n",
       "      <th>Chamber Endorsed?</th>\n",
       "      <th>No Labels Support?</th>\n",
       "    </tr>\n",
       "  </thead>\n",
       "  <tbody>\n",
       "    <tr>\n",
       "      <th>0</th>\n",
       "      <td>Mike Dunleavy</td>\n",
       "      <td>AK</td>\n",
       "      <td>Governor of Alaska</td>\n",
       "      <td>Governor</td>\n",
       "      <td>Regular</td>\n",
       "      <td>8/21/18</td>\n",
       "      <td>Advanced</td>\n",
       "      <td>None</td>\n",
       "      <td>On the Ballot</td>\n",
       "      <td>61.8</td>\n",
       "      <td>...</td>\n",
       "      <td>NaN</td>\n",
       "      <td>NaN</td>\n",
       "      <td>NaN</td>\n",
       "      <td>NaN</td>\n",
       "      <td>NaN</td>\n",
       "      <td>NaN</td>\n",
       "      <td>NaN</td>\n",
       "      <td>NaN</td>\n",
       "      <td>NaN</td>\n",
       "      <td>NaN</td>\n",
       "    </tr>\n",
       "    <tr>\n",
       "      <th>1</th>\n",
       "      <td>Michael Sheldon</td>\n",
       "      <td>AK</td>\n",
       "      <td>Governor of Alaska</td>\n",
       "      <td>Governor</td>\n",
       "      <td>Regular</td>\n",
       "      <td>8/21/18</td>\n",
       "      <td>Lost</td>\n",
       "      <td>None</td>\n",
       "      <td>None</td>\n",
       "      <td>2.2</td>\n",
       "      <td>...</td>\n",
       "      <td>NaN</td>\n",
       "      <td>NaN</td>\n",
       "      <td>NaN</td>\n",
       "      <td>NaN</td>\n",
       "      <td>NaN</td>\n",
       "      <td>NaN</td>\n",
       "      <td>NaN</td>\n",
       "      <td>NaN</td>\n",
       "      <td>NaN</td>\n",
       "      <td>NaN</td>\n",
       "    </tr>\n",
       "    <tr>\n",
       "      <th>2</th>\n",
       "      <td>Mead Treadwell</td>\n",
       "      <td>AK</td>\n",
       "      <td>Governor of Alaska</td>\n",
       "      <td>Governor</td>\n",
       "      <td>Regular</td>\n",
       "      <td>8/21/18</td>\n",
       "      <td>Lost</td>\n",
       "      <td>None</td>\n",
       "      <td>None</td>\n",
       "      <td>31.9</td>\n",
       "      <td>...</td>\n",
       "      <td>NaN</td>\n",
       "      <td>NaN</td>\n",
       "      <td>NaN</td>\n",
       "      <td>NaN</td>\n",
       "      <td>NaN</td>\n",
       "      <td>NaN</td>\n",
       "      <td>NaN</td>\n",
       "      <td>NaN</td>\n",
       "      <td>NaN</td>\n",
       "      <td>NaN</td>\n",
       "    </tr>\n",
       "    <tr>\n",
       "      <th>3</th>\n",
       "      <td>Darin Colbry</td>\n",
       "      <td>AK</td>\n",
       "      <td>Governor of Alaska</td>\n",
       "      <td>Governor</td>\n",
       "      <td>Regular</td>\n",
       "      <td>8/21/18</td>\n",
       "      <td>Lost</td>\n",
       "      <td>None</td>\n",
       "      <td>None</td>\n",
       "      <td>0.6</td>\n",
       "      <td>...</td>\n",
       "      <td>NaN</td>\n",
       "      <td>NaN</td>\n",
       "      <td>NaN</td>\n",
       "      <td>NaN</td>\n",
       "      <td>NaN</td>\n",
       "      <td>NaN</td>\n",
       "      <td>NaN</td>\n",
       "      <td>NaN</td>\n",
       "      <td>NaN</td>\n",
       "      <td>NaN</td>\n",
       "    </tr>\n",
       "    <tr>\n",
       "      <th>4</th>\n",
       "      <td>Thomas Gordon</td>\n",
       "      <td>AK</td>\n",
       "      <td>Governor of Alaska</td>\n",
       "      <td>Governor</td>\n",
       "      <td>Regular</td>\n",
       "      <td>8/21/18</td>\n",
       "      <td>Lost</td>\n",
       "      <td>None</td>\n",
       "      <td>None</td>\n",
       "      <td>1.3</td>\n",
       "      <td>...</td>\n",
       "      <td>NaN</td>\n",
       "      <td>NaN</td>\n",
       "      <td>NaN</td>\n",
       "      <td>NaN</td>\n",
       "      <td>NaN</td>\n",
       "      <td>NaN</td>\n",
       "      <td>NaN</td>\n",
       "      <td>NaN</td>\n",
       "      <td>NaN</td>\n",
       "      <td>NaN</td>\n",
       "    </tr>\n",
       "  </tbody>\n",
       "</table>\n",
       "<p>5 rows × 25 columns</p>\n",
       "</div>"
      ],
      "text/plain": [
       "         Candidate State            District Office Type Race Type  \\\n",
       "0    Mike Dunleavy    AK  Governor of Alaska    Governor   Regular   \n",
       "1  Michael Sheldon    AK  Governor of Alaska    Governor   Regular   \n",
       "2   Mead Treadwell    AK  Governor of Alaska    Governor   Regular   \n",
       "3     Darin Colbry    AK  Governor of Alaska    Governor   Regular   \n",
       "4    Thomas Gordon    AK  Governor of Alaska    Governor   Regular   \n",
       "\n",
       "  Race Primary Election Date Primary Status Primary Runoff Status  \\\n",
       "0                    8/21/18       Advanced                  None   \n",
       "1                    8/21/18           Lost                  None   \n",
       "2                    8/21/18           Lost                  None   \n",
       "3                    8/21/18           Lost                  None   \n",
       "4                    8/21/18           Lost                  None   \n",
       "\n",
       "  General Status  Primary %  ... NRA Endorsed? Right to Life Endorsed?  \\\n",
       "0  On the Ballot       61.8  ...           NaN                     NaN   \n",
       "1           None        2.2  ...           NaN                     NaN   \n",
       "2           None       31.9  ...           NaN                     NaN   \n",
       "3           None        0.6  ...           NaN                     NaN   \n",
       "4           None        1.3  ...           NaN                     NaN   \n",
       "\n",
       "  Susan B. Anthony Endorsed? Club for Growth Endorsed? Koch Support?  \\\n",
       "0                        NaN                       NaN           NaN   \n",
       "1                        NaN                       NaN           NaN   \n",
       "2                        NaN                       NaN           NaN   \n",
       "3                        NaN                       NaN           NaN   \n",
       "4                        NaN                       NaN           NaN   \n",
       "\n",
       "  House Freedom Support? Tea Party Endorsed? Main Street Endorsed?  \\\n",
       "0                    NaN                 NaN                   NaN   \n",
       "1                    NaN                 NaN                   NaN   \n",
       "2                    NaN                 NaN                   NaN   \n",
       "3                    NaN                 NaN                   NaN   \n",
       "4                    NaN                 NaN                   NaN   \n",
       "\n",
       "  Chamber Endorsed? No Labels Support?  \n",
       "0               NaN                NaN  \n",
       "1               NaN                NaN  \n",
       "2               NaN                NaN  \n",
       "3               NaN                NaN  \n",
       "4               NaN                NaN  \n",
       "\n",
       "[5 rows x 25 columns]"
      ]
     },
     "execution_count": 4,
     "metadata": {},
     "output_type": "execute_result"
    }
   ],
   "source": [
    "rep = pd.read_csv('rep_candidates.csv')\n",
    "rep.head()\n",
    "# rep.value_counts()"
   ]
  },
  {
   "cell_type": "code",
   "execution_count": 5,
   "metadata": {},
   "outputs": [
    {
     "data": {
      "text/plain": [
       "No     84\n",
       "Yes    16\n",
       "Name: Tea Party Endorsed?, dtype: int64"
      ]
     },
     "execution_count": 5,
     "metadata": {},
     "output_type": "execute_result"
    }
   ],
   "source": [
    "rep['Tea Party Endorsed?'].value_counts()"
   ]
  },
  {
   "cell_type": "code",
   "execution_count": 9,
   "metadata": {},
   "outputs": [
    {
     "data": {
      "text/plain": [
       "Index(['CAND_ID', 'CAND_NAME', 'CAND_ICI', 'PTY_CD', 'CAND_PTY_AFFILIATION',\n",
       "       'TTL_RECEIPTS', 'TRANS_FROM_AUTH', 'TTL_DISB', 'TRANS_TO_AUTH',\n",
       "       'COH_BOP', 'COH_COP', 'CAND_CONTRIB', 'CAND_LOANS', 'OTHER_LOANS',\n",
       "       'CAND_LOAN_REPAY', 'OTHER_LOAN_REPAY', 'DEBTS_OWED_BY',\n",
       "       'TTL_INDIV_CONTRIB', 'CAND_OFFICE_ST', 'CAND_OFFICE_DISTRICT',\n",
       "       'SPEC_ELECTION', 'PRIM_ELECTION', 'RUN_ELECTION', 'GEN_ELECTION',\n",
       "       'GEN_ELECTION_PRECENT', 'OTHER_POL_CMTE_CONTRIB', 'POL_PTY_CONTRIB',\n",
       "       'CVG_END_DT', 'INDIV_REFUNDS', 'CMTE_REFUNDS'],\n",
       "      dtype='object')"
      ]
     },
     "execution_count": 9,
     "metadata": {},
     "output_type": "execute_result"
    }
   ],
   "source": [
    "fed = pd.read_csv('weball18.csv', sep='|')\n",
    "fed.columns"
   ]
  },
  {
   "cell_type": "code",
   "execution_count": 14,
   "metadata": {},
   "outputs": [
    {
     "data": {
      "text/plain": [
       "0      NaN\n",
       "1      NaN\n",
       "2      NaN\n",
       "3      NaN\n",
       "4      NaN\n",
       "        ..\n",
       "3685   NaN\n",
       "3686   NaN\n",
       "3687   NaN\n",
       "3688   NaN\n",
       "3689   NaN\n",
       "Name: RUN_ELECTION, Length: 3690, dtype: float64"
      ]
     },
     "execution_count": 14,
     "metadata": {},
     "output_type": "execute_result"
    }
   ],
   "source": [
    "fed[[]'SPEC_ELECTION', 'PRIM_ELECTION', 'RUN_ELECTION', 'GEN_ELECTION',\n",
    "       'GEN_ELECTION_PRECENT']"
   ]
  },
  {
   "cell_type": "code",
   "execution_count": null,
   "metadata": {},
   "outputs": [],
   "source": []
  }
 ],
 "metadata": {
  "kernelspec": {
   "display_name": "Python 3",
   "language": "python",
   "name": "python3"
  },
  "language_info": {
   "codemirror_mode": {
    "name": "ipython",
    "version": 3
   },
   "file_extension": ".py",
   "mimetype": "text/x-python",
   "name": "python",
   "nbconvert_exporter": "python",
   "pygments_lexer": "ipython3",
   "version": "3.8.5"
  }
 },
 "nbformat": 4,
 "nbformat_minor": 2
}
