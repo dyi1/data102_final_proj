{
 "cells": [
  {
   "cell_type": "code",
   "execution_count": 25,
   "metadata": {},
   "outputs": [
    {
     "ename": "ModuleNotFoundError",
     "evalue": "No module named 'graphviz'",
     "output_type": "error",
     "traceback": [
      "\u001b[1;31m---------------------------------------------------------------------------\u001b[0m",
      "\u001b[1;31mModuleNotFoundError\u001b[0m                       Traceback (most recent call last)",
      "\u001b[1;32m<ipython-input-25-80d6d261e869>\u001b[0m in \u001b[0;36m<module>\u001b[1;34m\u001b[0m\n\u001b[0;32m      7\u001b[0m \u001b[1;32mfrom\u001b[0m \u001b[0msklearn\u001b[0m\u001b[1;33m.\u001b[0m\u001b[0mlinear_model\u001b[0m \u001b[1;32mimport\u001b[0m \u001b[0mLinearRegression\u001b[0m\u001b[1;33m\u001b[0m\u001b[1;33m\u001b[0m\u001b[0m\n\u001b[0;32m      8\u001b[0m \u001b[1;32mfrom\u001b[0m \u001b[0msklearn\u001b[0m \u001b[1;32mimport\u001b[0m \u001b[0mtree\u001b[0m\u001b[1;33m\u001b[0m\u001b[1;33m\u001b[0m\u001b[0m\n\u001b[1;32m----> 9\u001b[1;33m \u001b[1;32mimport\u001b[0m \u001b[0mgraphviz\u001b[0m\u001b[1;33m\u001b[0m\u001b[1;33m\u001b[0m\u001b[0m\n\u001b[0m",
      "\u001b[1;31mModuleNotFoundError\u001b[0m: No module named 'graphviz'"
     ]
    }
   ],
   "source": [
    "import numpy as np\n",
    "import pandas as pd\n",
    "import matplotlib.pyplot as plt\n",
    "import statsmodels.api as sm\n",
    "\n",
    "import sklearn\n",
    "from sklearn.linear_model import LinearRegression\n",
    "from sklearn import tree\n",
    "import graphviz "
   ]
  },
  {
   "cell_type": "code",
   "execution_count": null,
   "metadata": {},
   "outputs": [],
   "source": []
  },
  {
   "cell_type": "markdown",
   "metadata": {},
   "source": [
    "Predicting presidential political endorsements based on political views/demographics/local endorsements"
   ]
  },
  {
   "cell_type": "markdown",
   "metadata": {},
   "source": [
    "# Data cleaning"
   ]
  },
  {
   "cell_type": "code",
   "execution_count": 4,
   "metadata": {},
   "outputs": [],
   "source": [
    "dem = pd.read_csv('dem_candidates.csv')\n",
    "rep = pd.read_csv('rep_candidates.csv')"
   ]
  },
  {
   "cell_type": "code",
   "execution_count": 5,
   "metadata": {},
   "outputs": [
    {
     "data": {
      "text/plain": [
       "Index(['Candidate', 'State', 'District', 'Office Type', 'Race Type',\n",
       "       'Race Primary Election Date', 'Primary Status', 'Primary Runoff Status',\n",
       "       'General Status', 'Primary %', 'Won Primary', 'Rep Party Support?',\n",
       "       'Trump Endorsed?', 'Bannon Endorsed?', 'Great America Endorsed?',\n",
       "       'NRA Endorsed?', 'Right to Life Endorsed?',\n",
       "       'Susan B. Anthony Endorsed?', 'Club for Growth Endorsed?',\n",
       "       'Koch Support?', 'House Freedom Support?', 'Tea Party Endorsed?',\n",
       "       'Main Street Endorsed?', 'Chamber Endorsed?', 'No Labels Support?'],\n",
       "      dtype='object')"
      ]
     },
     "execution_count": 5,
     "metadata": {},
     "output_type": "execute_result"
    }
   ],
   "source": [
    "rep.columns"
   ]
  },
  {
   "cell_type": "code",
   "execution_count": 6,
   "metadata": {},
   "outputs": [],
   "source": [
    "rep_important = rep[['Rep Party Support?',\n",
    "       'Bannon Endorsed?', 'Great America Endorsed?',\n",
    "       'NRA Endorsed?', 'Right to Life Endorsed?',\n",
    "       'Susan B. Anthony Endorsed?', 'Club for Growth Endorsed?',\n",
    "       'Koch Support?', 'House Freedom Support?', 'Tea Party Endorsed?',\n",
    "       'Main Street Endorsed?', 'Chamber Endorsed?', 'No Labels Support?']].fillna(0).replace({'No': -1, 'Yes': 1})\n",
    "rep_pred = rep[['Trump Endorsed?']].fillna(0).replace({'No': -1, 'Yes': 1})"
   ]
  },
  {
   "cell_type": "code",
   "execution_count": 7,
   "metadata": {},
   "outputs": [
    {
     "data": {
      "text/plain": [
       "{-1, 0, 1}"
      ]
     },
     "execution_count": 7,
     "metadata": {},
     "output_type": "execute_result"
    }
   ],
   "source": [
    "set(rep_important.iloc[:, 0])"
   ]
  },
  {
   "cell_type": "code",
   "execution_count": 8,
   "metadata": {},
   "outputs": [
    {
     "data": {
      "text/plain": [
       "Index(['Candidate', 'State', 'District', 'Office Type', 'Race Type',\n",
       "       'Race Primary Election Date', 'Primary Status', 'Primary Runoff Status',\n",
       "       'General Status', 'Partisan Lean', 'Primary %', 'Won Primary', 'Race',\n",
       "       'Veteran?', 'LGBTQ?', 'Elected Official?', 'Self-Funder?', 'STEM?',\n",
       "       'Obama Alum?', 'Party Support?', 'Emily Endorsed?',\n",
       "       'Guns Sense Candidate?', 'Biden Endorsed?', 'Warren Endorsed? ',\n",
       "       'Sanders Endorsed?', 'Our Revolution Endorsed?',\n",
       "       'Justice Dems Endorsed?', 'PCCC Endorsed?', 'Indivisible Endorsed?',\n",
       "       'WFP Endorsed?', 'VoteVets Endorsed?', 'No Labels Support?'],\n",
       "      dtype='object')"
      ]
     },
     "execution_count": 8,
     "metadata": {},
     "output_type": "execute_result"
    }
   ],
   "source": [
    "dem.columns"
   ]
  },
  {
   "cell_type": "code",
   "execution_count": 9,
   "metadata": {},
   "outputs": [],
   "source": [
    "# Filter out relevant columns in dems dataset\n",
    "dem_important = dem[['Biden Endorsed?', 'Warren Endorsed? ',\n",
    "       'Sanders Endorsed?', 'Our Revolution Endorsed?',\n",
    "       'Justice Dems Endorsed?', 'PCCC Endorsed?', 'Indivisible Endorsed?',\n",
    "       'WFP Endorsed?', 'VoteVets Endorsed?', 'Emily Endorsed?']].fillna(0).replace({'No': -1, 'Yes': 1})\n",
    "dem_pred = dem[['Biden Endorsed?']].fillna(0).replace({'No': -1, 'Yes': 1})\n",
    "\n"
   ]
  },
  {
   "cell_type": "code",
   "execution_count": 10,
   "metadata": {},
   "outputs": [
    {
     "data": {
      "text/plain": [
       "{-1, 0, 1}"
      ]
     },
     "execution_count": 10,
     "metadata": {},
     "output_type": "execute_result"
    }
   ],
   "source": [
    "# set(dem_endorse.iloc[:, 0])\n",
    "set(dem_pred.iloc[:, 0])"
   ]
  },
  {
   "cell_type": "code",
   "execution_count": 11,
   "metadata": {},
   "outputs": [],
   "source": [
    "# dem_important[dem_important['Biden Endorsed?'] == -1]"
   ]
  },
  {
   "cell_type": "markdown",
   "metadata": {},
   "source": [
    "### Dems EDA "
   ]
  },
  {
   "cell_type": "code",
   "execution_count": 13,
   "metadata": {},
   "outputs": [
    {
     "data": {
      "text/plain": [
       "Biden Endorsed?  Warren Endorsed?   Sanders Endorsed?\n",
       " 0                0                  0                   717\n",
       "-1                0                  0                    29\n",
       " 0               -1                  0                    21\n",
       "                  0                 -1                    20\n",
       " 1                0                  0                    10\n",
       " 0                0                  1                     9\n",
       "                  1                  0                     5\n",
       "dtype: int64"
      ]
     },
     "execution_count": 13,
     "metadata": {},
     "output_type": "execute_result"
    }
   ],
   "source": [
    "# EDA\n",
    "dem_important[['Biden Endorsed?', 'Warren Endorsed? ','Sanders Endorsed?']].value_counts()"
   ]
  },
  {
   "cell_type": "code",
   "execution_count": 14,
   "metadata": {},
   "outputs": [
    {
     "data": {
      "text/plain": [
       "Biden Endorsed?  Our Revolution Endorsed?  Justice Dems Endorsed?\n",
       " 0                0                         0                        399\n",
       "                 -1                         0                        133\n",
       "                                           -1                         89\n",
       "                  1                         0                         51\n",
       "                  0                        -1                         48\n",
       "                  1                         1                         26\n",
       "                  0                         1                         17\n",
       "-1                0                         0                         16\n",
       " 1                0                         0                          7\n",
       "-1               -1                        -1                          5\n",
       " 0                1                        -1                          5\n",
       "-1               -1                         0                          4\n",
       " 0               -1                         1                          4\n",
       "-1                1                         1                          2\n",
       " 1               -1                        -1                          2\n",
       "                                            0                          1\n",
       "-1                1                         0                          1\n",
       "                  0                         1                          1\n",
       "dtype: int64"
      ]
     },
     "execution_count": 14,
     "metadata": {},
     "output_type": "execute_result"
    }
   ],
   "source": [
    "dem_important[['Biden Endorsed?', 'Our Revolution Endorsed?', 'Justice Dems Endorsed?']].value_counts()"
   ]
  },
  {
   "cell_type": "code",
   "execution_count": 15,
   "metadata": {},
   "outputs": [
    {
     "data": {
      "text/html": [
       "<div>\n",
       "<style scoped>\n",
       "    .dataframe tbody tr th:only-of-type {\n",
       "        vertical-align: middle;\n",
       "    }\n",
       "\n",
       "    .dataframe tbody tr th {\n",
       "        vertical-align: top;\n",
       "    }\n",
       "\n",
       "    .dataframe thead th {\n",
       "        text-align: right;\n",
       "    }\n",
       "</style>\n",
       "<table border=\"1\" class=\"dataframe\">\n",
       "  <thead>\n",
       "    <tr style=\"text-align: right;\">\n",
       "      <th></th>\n",
       "      <th>Biden Endorsed?</th>\n",
       "      <th>Warren Endorsed?</th>\n",
       "      <th>Sanders Endorsed?</th>\n",
       "      <th>Our Revolution Endorsed?</th>\n",
       "      <th>Justice Dems Endorsed?</th>\n",
       "      <th>PCCC Endorsed?</th>\n",
       "      <th>Indivisible Endorsed?</th>\n",
       "      <th>WFP Endorsed?</th>\n",
       "      <th>VoteVets Endorsed?</th>\n",
       "      <th>Emily Endorsed?</th>\n",
       "    </tr>\n",
       "  </thead>\n",
       "  <tbody>\n",
       "    <tr>\n",
       "      <th>75</th>\n",
       "      <td>0</td>\n",
       "      <td>1</td>\n",
       "      <td>0</td>\n",
       "      <td>1</td>\n",
       "      <td>0</td>\n",
       "      <td>1</td>\n",
       "      <td>0</td>\n",
       "      <td>0</td>\n",
       "      <td>0</td>\n",
       "      <td>1</td>\n",
       "    </tr>\n",
       "    <tr>\n",
       "      <th>176</th>\n",
       "      <td>0</td>\n",
       "      <td>1</td>\n",
       "      <td>0</td>\n",
       "      <td>-1</td>\n",
       "      <td>0</td>\n",
       "      <td>0</td>\n",
       "      <td>0</td>\n",
       "      <td>0</td>\n",
       "      <td>0</td>\n",
       "      <td>1</td>\n",
       "    </tr>\n",
       "    <tr>\n",
       "      <th>226</th>\n",
       "      <td>0</td>\n",
       "      <td>1</td>\n",
       "      <td>0</td>\n",
       "      <td>0</td>\n",
       "      <td>-1</td>\n",
       "      <td>1</td>\n",
       "      <td>0</td>\n",
       "      <td>1</td>\n",
       "      <td>0</td>\n",
       "      <td>1</td>\n",
       "    </tr>\n",
       "    <tr>\n",
       "      <th>416</th>\n",
       "      <td>0</td>\n",
       "      <td>1</td>\n",
       "      <td>0</td>\n",
       "      <td>-1</td>\n",
       "      <td>-1</td>\n",
       "      <td>0</td>\n",
       "      <td>0</td>\n",
       "      <td>-1</td>\n",
       "      <td>-1</td>\n",
       "      <td>1</td>\n",
       "    </tr>\n",
       "    <tr>\n",
       "      <th>494</th>\n",
       "      <td>0</td>\n",
       "      <td>1</td>\n",
       "      <td>0</td>\n",
       "      <td>-1</td>\n",
       "      <td>0</td>\n",
       "      <td>0</td>\n",
       "      <td>0</td>\n",
       "      <td>0</td>\n",
       "      <td>0</td>\n",
       "      <td>0</td>\n",
       "    </tr>\n",
       "  </tbody>\n",
       "</table>\n",
       "</div>"
      ],
      "text/plain": [
       "     Biden Endorsed?  Warren Endorsed?   Sanders Endorsed?  \\\n",
       "75                 0                  1                  0   \n",
       "176                0                  1                  0   \n",
       "226                0                  1                  0   \n",
       "416                0                  1                  0   \n",
       "494                0                  1                  0   \n",
       "\n",
       "     Our Revolution Endorsed?  Justice Dems Endorsed?  PCCC Endorsed?  \\\n",
       "75                          1                       0               1   \n",
       "176                        -1                       0               0   \n",
       "226                         0                      -1               1   \n",
       "416                        -1                      -1               0   \n",
       "494                        -1                       0               0   \n",
       "\n",
       "     Indivisible Endorsed?  WFP Endorsed?  VoteVets Endorsed?  Emily Endorsed?  \n",
       "75                       0              0                   0                1  \n",
       "176                      0              0                   0                1  \n",
       "226                      0              1                   0                1  \n",
       "416                      0             -1                  -1                1  \n",
       "494                      0              0                   0                0  "
      ]
     },
     "execution_count": 15,
     "metadata": {},
     "output_type": "execute_result"
    }
   ],
   "source": [
    "# dem_important[dem_important['Warren Endorsed? '] == 1]"
   ]
  },
  {
   "cell_type": "code",
   "execution_count": 17,
   "metadata": {},
   "outputs": [],
   "source": [
    "# dem_important[dem_important['Biden Endorsed?'] == 1]"
   ]
  },
  {
   "cell_type": "code",
   "execution_count": 18,
   "metadata": {},
   "outputs": [],
   "source": [
    "# dem_endorse[dem_endorse['Sanders Endorsed?'] == 1]"
   ]
  },
  {
   "cell_type": "code",
   "execution_count": 20,
   "metadata": {},
   "outputs": [],
   "source": [
    "# dem_important[dem_important['Our Revolution Endorsed?'] == -1]"
   ]
  },
  {
   "cell_type": "markdown",
   "metadata": {},
   "source": [
    "# Decision trees"
   ]
  },
  {
   "cell_type": "code",
   "execution_count": 21,
   "metadata": {},
   "outputs": [
    {
     "data": {
      "text/plain": [
       "Index(['Candidate', 'State', 'District', 'Office Type', 'Race Type',\n",
       "       'Race Primary Election Date', 'Primary Status', 'Primary Runoff Status',\n",
       "       'General Status', 'Partisan Lean', 'Primary %', 'Won Primary', 'Race',\n",
       "       'Veteran?', 'LGBTQ?', 'Elected Official?', 'Self-Funder?', 'STEM?',\n",
       "       'Obama Alum?', 'Party Support?', 'Emily Endorsed?',\n",
       "       'Guns Sense Candidate?', 'Biden Endorsed?', 'Warren Endorsed? ',\n",
       "       'Sanders Endorsed?', 'Our Revolution Endorsed?',\n",
       "       'Justice Dems Endorsed?', 'PCCC Endorsed?', 'Indivisible Endorsed?',\n",
       "       'WFP Endorsed?', 'VoteVets Endorsed?', 'No Labels Support?'],\n",
       "      dtype='object')"
      ]
     },
     "execution_count": 21,
     "metadata": {},
     "output_type": "execute_result"
    }
   ],
   "source": [
    "dem.columns"
   ]
  },
  {
   "cell_type": "code",
   "execution_count": 22,
   "metadata": {},
   "outputs": [],
   "source": [
    "dem_endorse = dem[['Party Support?', 'Our Revolution Endorsed?','No Labels Support?',\n",
    "       'Justice Dems Endorsed?', 'PCCC Endorsed?', 'Indivisible Endorsed?',\n",
    "       'WFP Endorsed?', 'VoteVets Endorsed?', 'Emily Endorsed?', 'Guns Sense Candidate?']].fillna(0).replace({'No': -1, 'Yes': 1})"
   ]
  },
  {
   "cell_type": "code",
   "execution_count": 23,
   "metadata": {},
   "outputs": [],
   "source": [
    "# Function written to run the decision tree\n",
    "def runtree(featdf, preddf, maxdepth=2, random=0):\n",
    "    clf = tree.DecisionTreeClassifier(random_state=random, max_depth=maxdepth)\n",
    "    clf = clf.fit(featdf, preddf)\n",
    "#     tree.plot_tree(clf)\n",
    "    \n",
    "    dot_data = tree.export_graphviz(clf, out_file=None) \n",
    "    dot_data = tree.export_graphviz(clf, out_file=None, \n",
    "                  feature_names=featdf.columns,  \n",
    "                    filled=True, rounded=True,  \n",
    "                      special_characters=True)  \n",
    "    graph = graphviz.Source(dot_data) \n",
    "    return graph"
   ]
  },
  {
   "cell_type": "code",
   "execution_count": 24,
   "metadata": {},
   "outputs": [
    {
     "ename": "NameError",
     "evalue": "name 'graphviz' is not defined",
     "output_type": "error",
     "traceback": [
      "\u001b[1;31m---------------------------------------------------------------------------\u001b[0m",
      "\u001b[1;31mNameError\u001b[0m                                 Traceback (most recent call last)",
      "\u001b[1;32m<ipython-input-24-f35702b1f064>\u001b[0m in \u001b[0;36m<module>\u001b[1;34m\u001b[0m\n\u001b[1;32m----> 1\u001b[1;33m \u001b[0mruntree\u001b[0m\u001b[1;33m(\u001b[0m\u001b[0mdem_endorse\u001b[0m\u001b[1;33m,\u001b[0m \u001b[0mdem_pred\u001b[0m\u001b[1;33m,\u001b[0m \u001b[1;36m3\u001b[0m\u001b[1;33m,\u001b[0m \u001b[1;36m42\u001b[0m\u001b[1;33m)\u001b[0m\u001b[1;33m\u001b[0m\u001b[1;33m\u001b[0m\u001b[0m\n\u001b[0m",
      "\u001b[1;32m<ipython-input-23-7352a62ff66d>\u001b[0m in \u001b[0;36mruntree\u001b[1;34m(featdf, preddf, maxdepth, random)\u001b[0m\n\u001b[0;32m     10\u001b[0m                     \u001b[0mfilled\u001b[0m\u001b[1;33m=\u001b[0m\u001b[1;32mTrue\u001b[0m\u001b[1;33m,\u001b[0m \u001b[0mrounded\u001b[0m\u001b[1;33m=\u001b[0m\u001b[1;32mTrue\u001b[0m\u001b[1;33m,\u001b[0m\u001b[1;33m\u001b[0m\u001b[1;33m\u001b[0m\u001b[0m\n\u001b[0;32m     11\u001b[0m                       special_characters=True)  \n\u001b[1;32m---> 12\u001b[1;33m     \u001b[0mgraph\u001b[0m \u001b[1;33m=\u001b[0m \u001b[0mgraphviz\u001b[0m\u001b[1;33m.\u001b[0m\u001b[0mSource\u001b[0m\u001b[1;33m(\u001b[0m\u001b[0mdot_data\u001b[0m\u001b[1;33m)\u001b[0m\u001b[1;33m\u001b[0m\u001b[1;33m\u001b[0m\u001b[0m\n\u001b[0m\u001b[0;32m     13\u001b[0m     \u001b[1;32mreturn\u001b[0m \u001b[0mgraph\u001b[0m\u001b[1;33m\u001b[0m\u001b[1;33m\u001b[0m\u001b[0m\n",
      "\u001b[1;31mNameError\u001b[0m: name 'graphviz' is not defined"
     ]
    }
   ],
   "source": [
    "runtree(dem_endorse, dem_pred, 3, 42)"
   ]
  },
  {
   "cell_type": "code",
   "execution_count": 48,
   "metadata": {},
   "outputs": [
    {
     "data": {
      "image/svg+xml": [
       "<?xml version=\"1.0\" encoding=\"UTF-8\" standalone=\"no\"?>\n",
       "<!DOCTYPE svg PUBLIC \"-//W3C//DTD SVG 1.1//EN\"\n",
       " \"http://www.w3.org/Graphics/SVG/1.1/DTD/svg11.dtd\">\n",
       "<!-- Generated by graphviz version 2.43.0 (0)\n",
       " -->\n",
       "<!-- Title: Tree Pages: 1 -->\n",
       "<svg width=\"1248pt\" height=\"373pt\"\n",
       " viewBox=\"0.00 0.00 1247.50 373.00\" xmlns=\"http://www.w3.org/2000/svg\" xmlns:xlink=\"http://www.w3.org/1999/xlink\">\n",
       "<g id=\"graph0\" class=\"graph\" transform=\"scale(1 1) rotate(0) translate(4 369)\">\n",
       "<title>Tree</title>\n",
       "<polygon fill=\"white\" stroke=\"transparent\" points=\"-4,4 -4,-369 1243.5,-369 1243.5,4 -4,4\"/>\n",
       "<!-- 0 -->\n",
       "<g id=\"node1\" class=\"node\">\n",
       "<title>0</title>\n",
       "<path fill=\"#4de88d\" stroke=\"black\" d=\"M673.5,-365C673.5,-365 530.5,-365 530.5,-365 524.5,-365 518.5,-359 518.5,-353 518.5,-353 518.5,-309 518.5,-309 518.5,-303 524.5,-297 530.5,-297 530.5,-297 673.5,-297 673.5,-297 679.5,-297 685.5,-303 685.5,-309 685.5,-309 685.5,-353 685.5,-353 685.5,-359 679.5,-365 673.5,-365\"/>\n",
       "<text text-anchor=\"start\" x=\"527\" y=\"-349.8\" font-family=\"Helvetica,sans-Serif\" font-size=\"14.00\">Koch Support? ≤ &#45;0.5</text>\n",
       "<text text-anchor=\"start\" x=\"562.5\" y=\"-334.8\" font-family=\"Helvetica,sans-Serif\" font-size=\"14.00\">gini = 0.17</text>\n",
       "<text text-anchor=\"start\" x=\"549\" y=\"-319.8\" font-family=\"Helvetica,sans-Serif\" font-size=\"14.00\">samples = 774</text>\n",
       "<text text-anchor=\"start\" x=\"526.5\" y=\"-304.8\" font-family=\"Helvetica,sans-Serif\" font-size=\"14.00\">value = [54, 703, 17]</text>\n",
       "</g>\n",
       "<!-- 1 -->\n",
       "<g id=\"node2\" class=\"node\">\n",
       "<title>1</title>\n",
       "<path fill=\"#b5f5d0\" stroke=\"black\" d=\"M584.5,-261C584.5,-261 411.5,-261 411.5,-261 405.5,-261 399.5,-255 399.5,-249 399.5,-249 399.5,-205 399.5,-205 399.5,-199 405.5,-193 411.5,-193 411.5,-193 584.5,-193 584.5,-193 590.5,-193 596.5,-199 596.5,-205 596.5,-205 596.5,-249 596.5,-249 596.5,-255 590.5,-261 584.5,-261\"/>\n",
       "<text text-anchor=\"start\" x=\"407.5\" y=\"-245.8\" font-family=\"Helvetica,sans-Serif\" font-size=\"14.00\">Bannon Endorsed? ≤ &#45;0.5</text>\n",
       "<text text-anchor=\"start\" x=\"454\" y=\"-230.8\" font-family=\"Helvetica,sans-Serif\" font-size=\"14.00\">gini = 0.484</text>\n",
       "<text text-anchor=\"start\" x=\"449.5\" y=\"-215.8\" font-family=\"Helvetica,sans-Serif\" font-size=\"14.00\">samples = 90</text>\n",
       "<text text-anchor=\"start\" x=\"431.5\" y=\"-200.8\" font-family=\"Helvetica,sans-Serif\" font-size=\"14.00\">value = [34, 55, 1]</text>\n",
       "</g>\n",
       "<!-- 0&#45;&gt;1 -->\n",
       "<g id=\"edge1\" class=\"edge\">\n",
       "<title>0&#45;&gt;1</title>\n",
       "<path fill=\"none\" stroke=\"black\" d=\"M568.23,-296.88C558.97,-287.8 548.82,-277.85 539.19,-268.4\"/>\n",
       "<polygon fill=\"black\" stroke=\"black\" points=\"541.54,-265.8 531.95,-261.3 536.64,-270.8 541.54,-265.8\"/>\n",
       "<text text-anchor=\"middle\" x=\"532.19\" y=\"-282.6\" font-family=\"Helvetica,sans-Serif\" font-size=\"14.00\">True</text>\n",
       "</g>\n",
       "<!-- 8 -->\n",
       "<g id=\"node9\" class=\"node\">\n",
       "<title>8</title>\n",
       "<path fill=\"#44e688\" stroke=\"black\" d=\"M799.5,-261C799.5,-261 656.5,-261 656.5,-261 650.5,-261 644.5,-255 644.5,-249 644.5,-249 644.5,-205 644.5,-205 644.5,-199 650.5,-193 656.5,-193 656.5,-193 799.5,-193 799.5,-193 805.5,-193 811.5,-199 811.5,-205 811.5,-205 811.5,-249 811.5,-249 811.5,-255 805.5,-261 799.5,-261\"/>\n",
       "<text text-anchor=\"start\" x=\"655.5\" y=\"-245.8\" font-family=\"Helvetica,sans-Serif\" font-size=\"14.00\">Koch Support? ≤ 0.5</text>\n",
       "<text text-anchor=\"start\" x=\"684\" y=\"-230.8\" font-family=\"Helvetica,sans-Serif\" font-size=\"14.00\">gini = 0.101</text>\n",
       "<text text-anchor=\"start\" x=\"675\" y=\"-215.8\" font-family=\"Helvetica,sans-Serif\" font-size=\"14.00\">samples = 684</text>\n",
       "<text text-anchor=\"start\" x=\"652.5\" y=\"-200.8\" font-family=\"Helvetica,sans-Serif\" font-size=\"14.00\">value = [20, 648, 16]</text>\n",
       "</g>\n",
       "<!-- 0&#45;&gt;8 -->\n",
       "<g id=\"edge8\" class=\"edge\">\n",
       "<title>0&#45;&gt;8</title>\n",
       "<path fill=\"none\" stroke=\"black\" d=\"M642.91,-296.88C654.35,-287.62 666.91,-277.45 678.78,-267.85\"/>\n",
       "<polygon fill=\"black\" stroke=\"black\" points=\"681.3,-270.31 686.87,-261.3 676.89,-264.87 681.3,-270.31\"/>\n",
       "<text text-anchor=\"middle\" x=\"684.25\" y=\"-282.46\" font-family=\"Helvetica,sans-Serif\" font-size=\"14.00\">False</text>\n",
       "</g>\n",
       "<!-- 2 -->\n",
       "<g id=\"node3\" class=\"node\">\n",
       "<title>2</title>\n",
       "<path fill=\"#e89152\" stroke=\"black\" d=\"M320.5,-157C320.5,-157 127.5,-157 127.5,-157 121.5,-157 115.5,-151 115.5,-145 115.5,-145 115.5,-101 115.5,-101 115.5,-95 121.5,-89 127.5,-89 127.5,-89 320.5,-89 320.5,-89 326.5,-89 332.5,-95 332.5,-101 332.5,-101 332.5,-145 332.5,-145 332.5,-151 326.5,-157 320.5,-157\"/>\n",
       "<text text-anchor=\"start\" x=\"123.5\" y=\"-141.8\" font-family=\"Helvetica,sans-Serif\" font-size=\"14.00\">Main Street Endorsed? ≤ 0.5</text>\n",
       "<text text-anchor=\"start\" x=\"180\" y=\"-126.8\" font-family=\"Helvetica,sans-Serif\" font-size=\"14.00\">gini = 0.215</text>\n",
       "<text text-anchor=\"start\" x=\"175.5\" y=\"-111.8\" font-family=\"Helvetica,sans-Serif\" font-size=\"14.00\">samples = 17</text>\n",
       "<text text-anchor=\"start\" x=\"162\" y=\"-96.8\" font-family=\"Helvetica,sans-Serif\" font-size=\"14.00\">value = [15, 1, 1]</text>\n",
       "</g>\n",
       "<!-- 1&#45;&gt;2 -->\n",
       "<g id=\"edge2\" class=\"edge\">\n",
       "<title>1&#45;&gt;2</title>\n",
       "<path fill=\"none\" stroke=\"black\" d=\"M409.04,-192.88C381.38,-182.59 350.73,-171.18 322.47,-160.66\"/>\n",
       "<polygon fill=\"black\" stroke=\"black\" points=\"323.57,-157.33 312.98,-157.12 321.13,-163.89 323.57,-157.33\"/>\n",
       "</g>\n",
       "<!-- 5 -->\n",
       "<g id=\"node6\" class=\"node\">\n",
       "<title>5</title>\n",
       "<path fill=\"#7feead\" stroke=\"black\" d=\"M572.5,-157C572.5,-157 423.5,-157 423.5,-157 417.5,-157 411.5,-151 411.5,-145 411.5,-145 411.5,-101 411.5,-101 411.5,-95 417.5,-89 423.5,-89 423.5,-89 572.5,-89 572.5,-89 578.5,-89 584.5,-95 584.5,-101 584.5,-101 584.5,-145 584.5,-145 584.5,-151 578.5,-157 572.5,-157\"/>\n",
       "<text text-anchor=\"start\" x=\"419.5\" y=\"-141.8\" font-family=\"Helvetica,sans-Serif\" font-size=\"14.00\">NRA Endorsed? ≤ &#45;0.5</text>\n",
       "<text text-anchor=\"start\" x=\"454\" y=\"-126.8\" font-family=\"Helvetica,sans-Serif\" font-size=\"14.00\">gini = 0.385</text>\n",
       "<text text-anchor=\"start\" x=\"449.5\" y=\"-111.8\" font-family=\"Helvetica,sans-Serif\" font-size=\"14.00\">samples = 73</text>\n",
       "<text text-anchor=\"start\" x=\"431.5\" y=\"-96.8\" font-family=\"Helvetica,sans-Serif\" font-size=\"14.00\">value = [19, 54, 0]</text>\n",
       "</g>\n",
       "<!-- 1&#45;&gt;5 -->\n",
       "<g id=\"edge5\" class=\"edge\">\n",
       "<title>1&#45;&gt;5</title>\n",
       "<path fill=\"none\" stroke=\"black\" d=\"M498,-192.88C498,-184.78 498,-175.98 498,-167.47\"/>\n",
       "<polygon fill=\"black\" stroke=\"black\" points=\"501.5,-167.3 498,-157.3 494.5,-167.3 501.5,-167.3\"/>\n",
       "</g>\n",
       "<!-- 3 -->\n",
       "<g id=\"node4\" class=\"node\">\n",
       "<title>3</title>\n",
       "<path fill=\"#e78946\" stroke=\"black\" d=\"M128,-53C128,-53 12,-53 12,-53 6,-53 0,-47 0,-41 0,-41 0,-12 0,-12 0,-6 6,0 12,0 12,0 128,0 128,0 134,0 140,-6 140,-12 140,-12 140,-41 140,-41 140,-47 134,-53 128,-53\"/>\n",
       "<text text-anchor=\"start\" x=\"26\" y=\"-37.8\" font-family=\"Helvetica,sans-Serif\" font-size=\"14.00\">gini = 0.117</text>\n",
       "<text text-anchor=\"start\" x=\"21.5\" y=\"-22.8\" font-family=\"Helvetica,sans-Serif\" font-size=\"14.00\">samples = 16</text>\n",
       "<text text-anchor=\"start\" x=\"8\" y=\"-7.8\" font-family=\"Helvetica,sans-Serif\" font-size=\"14.00\">value = [15, 1, 0]</text>\n",
       "</g>\n",
       "<!-- 2&#45;&gt;3 -->\n",
       "<g id=\"edge3\" class=\"edge\">\n",
       "<title>2&#45;&gt;3</title>\n",
       "<path fill=\"none\" stroke=\"black\" d=\"M170.14,-88.95C154.04,-79.07 136.45,-68.28 120.57,-58.53\"/>\n",
       "<polygon fill=\"black\" stroke=\"black\" points=\"122.3,-55.48 111.94,-53.24 118.63,-61.45 122.3,-55.48\"/>\n",
       "</g>\n",
       "<!-- 4 -->\n",
       "<g id=\"node5\" class=\"node\">\n",
       "<title>4</title>\n",
       "<path fill=\"#8139e5\" stroke=\"black\" d=\"M277.5,-53C277.5,-53 170.5,-53 170.5,-53 164.5,-53 158.5,-47 158.5,-41 158.5,-41 158.5,-12 158.5,-12 158.5,-6 164.5,0 170.5,0 170.5,0 277.5,0 277.5,0 283.5,0 289.5,-6 289.5,-12 289.5,-12 289.5,-41 289.5,-41 289.5,-47 283.5,-53 277.5,-53\"/>\n",
       "<text text-anchor=\"start\" x=\"189\" y=\"-37.8\" font-family=\"Helvetica,sans-Serif\" font-size=\"14.00\">gini = 0.0</text>\n",
       "<text text-anchor=\"start\" x=\"180\" y=\"-22.8\" font-family=\"Helvetica,sans-Serif\" font-size=\"14.00\">samples = 1</text>\n",
       "<text text-anchor=\"start\" x=\"166.5\" y=\"-7.8\" font-family=\"Helvetica,sans-Serif\" font-size=\"14.00\">value = [0, 0, 1]</text>\n",
       "</g>\n",
       "<!-- 2&#45;&gt;4 -->\n",
       "<g id=\"edge4\" class=\"edge\">\n",
       "<title>2&#45;&gt;4</title>\n",
       "<path fill=\"none\" stroke=\"black\" d=\"M224,-88.95C224,-80.72 224,-71.85 224,-63.48\"/>\n",
       "<polygon fill=\"black\" stroke=\"black\" points=\"227.5,-63.24 224,-53.24 220.5,-63.24 227.5,-63.24\"/>\n",
       "</g>\n",
       "<!-- 6 -->\n",
       "<g id=\"node7\" class=\"node\">\n",
       "<title>6</title>\n",
       "<path fill=\"#ea985d\" stroke=\"black\" d=\"M436,-53C436,-53 320,-53 320,-53 314,-53 308,-47 308,-41 308,-41 308,-12 308,-12 308,-6 314,0 320,0 320,0 436,0 436,0 442,0 448,-6 448,-12 448,-12 448,-41 448,-41 448,-47 442,-53 436,-53\"/>\n",
       "<text text-anchor=\"start\" x=\"338.5\" y=\"-37.8\" font-family=\"Helvetica,sans-Serif\" font-size=\"14.00\">gini = 0.26</text>\n",
       "<text text-anchor=\"start\" x=\"329.5\" y=\"-22.8\" font-family=\"Helvetica,sans-Serif\" font-size=\"14.00\">samples = 13</text>\n",
       "<text text-anchor=\"start\" x=\"316\" y=\"-7.8\" font-family=\"Helvetica,sans-Serif\" font-size=\"14.00\">value = [11, 2, 0]</text>\n",
       "</g>\n",
       "<!-- 5&#45;&gt;6 -->\n",
       "<g id=\"edge6\" class=\"edge\">\n",
       "<title>5&#45;&gt;6</title>\n",
       "<path fill=\"none\" stroke=\"black\" d=\"M456.03,-88.95C443.95,-79.43 430.79,-69.07 418.78,-59.62\"/>\n",
       "<polygon fill=\"black\" stroke=\"black\" points=\"420.7,-56.67 410.68,-53.24 416.37,-62.17 420.7,-56.67\"/>\n",
       "</g>\n",
       "<!-- 7 -->\n",
       "<g id=\"node8\" class=\"node\">\n",
       "<title>7</title>\n",
       "<path fill=\"#57e994\" stroke=\"black\" d=\"M594,-53C594,-53 478,-53 478,-53 472,-53 466,-47 466,-41 466,-41 466,-12 466,-12 466,-6 472,0 478,0 478,0 594,0 594,0 600,0 606,-6 606,-12 606,-12 606,-41 606,-41 606,-47 600,-53 594,-53\"/>\n",
       "<text text-anchor=\"start\" x=\"492\" y=\"-37.8\" font-family=\"Helvetica,sans-Serif\" font-size=\"14.00\">gini = 0.231</text>\n",
       "<text text-anchor=\"start\" x=\"487.5\" y=\"-22.8\" font-family=\"Helvetica,sans-Serif\" font-size=\"14.00\">samples = 60</text>\n",
       "<text text-anchor=\"start\" x=\"474\" y=\"-7.8\" font-family=\"Helvetica,sans-Serif\" font-size=\"14.00\">value = [8, 52, 0]</text>\n",
       "</g>\n",
       "<!-- 5&#45;&gt;7 -->\n",
       "<g id=\"edge7\" class=\"edge\">\n",
       "<title>5&#45;&gt;7</title>\n",
       "<path fill=\"none\" stroke=\"black\" d=\"M511.29,-88.95C514.71,-80.44 518.4,-71.26 521.87,-62.65\"/>\n",
       "<polygon fill=\"black\" stroke=\"black\" points=\"525.17,-63.82 525.65,-53.24 518.67,-61.21 525.17,-63.82\"/>\n",
       "</g>\n",
       "<!-- 9 -->\n",
       "<g id=\"node10\" class=\"node\">\n",
       "<title>9</title>\n",
       "<path fill=\"#42e686\" stroke=\"black\" d=\"M819.5,-157C819.5,-157 636.5,-157 636.5,-157 630.5,-157 624.5,-151 624.5,-145 624.5,-145 624.5,-101 624.5,-101 624.5,-95 630.5,-89 636.5,-89 636.5,-89 819.5,-89 819.5,-89 825.5,-89 831.5,-95 831.5,-101 831.5,-101 831.5,-145 831.5,-145 831.5,-151 825.5,-157 819.5,-157\"/>\n",
       "<text text-anchor=\"start\" x=\"632.5\" y=\"-141.8\" font-family=\"Helvetica,sans-Serif\" font-size=\"14.00\">Chamber Endorsed? ≤ &#45;0.5</text>\n",
       "<text text-anchor=\"start\" x=\"684\" y=\"-126.8\" font-family=\"Helvetica,sans-Serif\" font-size=\"14.00\">gini = 0.082</text>\n",
       "<text text-anchor=\"start\" x=\"675\" y=\"-111.8\" font-family=\"Helvetica,sans-Serif\" font-size=\"14.00\">samples = 663</text>\n",
       "<text text-anchor=\"start\" x=\"657\" y=\"-96.8\" font-family=\"Helvetica,sans-Serif\" font-size=\"14.00\">value = [20, 635, 8]</text>\n",
       "</g>\n",
       "<!-- 8&#45;&gt;9 -->\n",
       "<g id=\"edge9\" class=\"edge\">\n",
       "<title>8&#45;&gt;9</title>\n",
       "<path fill=\"none\" stroke=\"black\" d=\"M728,-192.88C728,-184.78 728,-175.98 728,-167.47\"/>\n",
       "<polygon fill=\"black\" stroke=\"black\" points=\"731.5,-167.3 728,-157.3 724.5,-167.3 731.5,-167.3\"/>\n",
       "</g>\n",
       "<!-- 12 -->\n",
       "<g id=\"node13\" class=\"node\">\n",
       "<title>12</title>\n",
       "<path fill=\"#b3f5cf\" stroke=\"black\" d=\"M1126.5,-157C1126.5,-157 913.5,-157 913.5,-157 907.5,-157 901.5,-151 901.5,-145 901.5,-145 901.5,-101 901.5,-101 901.5,-95 907.5,-89 913.5,-89 913.5,-89 1126.5,-89 1126.5,-89 1132.5,-89 1138.5,-95 1138.5,-101 1138.5,-101 1138.5,-145 1138.5,-145 1138.5,-151 1132.5,-157 1126.5,-157\"/>\n",
       "<text text-anchor=\"start\" x=\"909.5\" y=\"-141.8\" font-family=\"Helvetica,sans-Serif\" font-size=\"14.00\">Great America Endorsed? ≤ 0.5</text>\n",
       "<text text-anchor=\"start\" x=\"976\" y=\"-126.8\" font-family=\"Helvetica,sans-Serif\" font-size=\"14.00\">gini = 0.472</text>\n",
       "<text text-anchor=\"start\" x=\"971.5\" y=\"-111.8\" font-family=\"Helvetica,sans-Serif\" font-size=\"14.00\">samples = 21</text>\n",
       "<text text-anchor=\"start\" x=\"958\" y=\"-96.8\" font-family=\"Helvetica,sans-Serif\" font-size=\"14.00\">value = [0, 13, 8]</text>\n",
       "</g>\n",
       "<!-- 8&#45;&gt;12 -->\n",
       "<g id=\"edge12\" class=\"edge\">\n",
       "<title>8&#45;&gt;12</title>\n",
       "<path fill=\"none\" stroke=\"black\" d=\"M811.68,-196.77C844.18,-185.42 881.76,-172.29 915.97,-160.34\"/>\n",
       "<polygon fill=\"black\" stroke=\"black\" points=\"917.24,-163.6 925.53,-157 914.93,-157 917.24,-163.6\"/>\n",
       "</g>\n",
       "<!-- 10 -->\n",
       "<g id=\"node11\" class=\"node\">\n",
       "<title>10</title>\n",
       "<path fill=\"#d7fae6\" stroke=\"black\" d=\"M743.5,-53C743.5,-53 636.5,-53 636.5,-53 630.5,-53 624.5,-47 624.5,-41 624.5,-41 624.5,-12 624.5,-12 624.5,-6 630.5,0 636.5,0 636.5,0 743.5,0 743.5,0 749.5,0 755.5,-6 755.5,-12 755.5,-12 755.5,-41 755.5,-41 755.5,-47 749.5,-53 743.5,-53\"/>\n",
       "<text text-anchor=\"start\" x=\"646\" y=\"-37.8\" font-family=\"Helvetica,sans-Serif\" font-size=\"14.00\">gini = 0.494</text>\n",
       "<text text-anchor=\"start\" x=\"646\" y=\"-22.8\" font-family=\"Helvetica,sans-Serif\" font-size=\"14.00\">samples = 9</text>\n",
       "<text text-anchor=\"start\" x=\"632.5\" y=\"-7.8\" font-family=\"Helvetica,sans-Serif\" font-size=\"14.00\">value = [4, 5, 0]</text>\n",
       "</g>\n",
       "<!-- 9&#45;&gt;10 -->\n",
       "<g id=\"edge10\" class=\"edge\">\n",
       "<title>9&#45;&gt;10</title>\n",
       "<path fill=\"none\" stroke=\"black\" d=\"M714.71,-88.95C711.29,-80.44 707.6,-71.26 704.13,-62.65\"/>\n",
       "<polygon fill=\"black\" stroke=\"black\" points=\"707.33,-61.21 700.35,-53.24 700.83,-63.82 707.33,-61.21\"/>\n",
       "</g>\n",
       "<!-- 11 -->\n",
       "<g id=\"node12\" class=\"node\">\n",
       "<title>11</title>\n",
       "<path fill=\"#40e686\" stroke=\"black\" d=\"M920,-53C920,-53 786,-53 786,-53 780,-53 774,-47 774,-41 774,-41 774,-12 774,-12 774,-6 780,0 786,0 786,0 920,0 920,0 926,0 932,-6 932,-12 932,-12 932,-41 932,-41 932,-47 926,-53 920,-53\"/>\n",
       "<text text-anchor=\"start\" x=\"809\" y=\"-37.8\" font-family=\"Helvetica,sans-Serif\" font-size=\"14.00\">gini = 0.071</text>\n",
       "<text text-anchor=\"start\" x=\"800\" y=\"-22.8\" font-family=\"Helvetica,sans-Serif\" font-size=\"14.00\">samples = 654</text>\n",
       "<text text-anchor=\"start\" x=\"782\" y=\"-7.8\" font-family=\"Helvetica,sans-Serif\" font-size=\"14.00\">value = [16, 630, 8]</text>\n",
       "</g>\n",
       "<!-- 9&#45;&gt;11 -->\n",
       "<g id=\"edge11\" class=\"edge\">\n",
       "<title>9&#45;&gt;11</title>\n",
       "<path fill=\"none\" stroke=\"black\" d=\"M771.72,-88.95C784.42,-79.34 798.27,-68.87 810.88,-59.34\"/>\n",
       "<polygon fill=\"black\" stroke=\"black\" points=\"813.09,-62.06 818.96,-53.24 808.87,-56.48 813.09,-62.06\"/>\n",
       "</g>\n",
       "<!-- 13 -->\n",
       "<g id=\"node14\" class=\"node\">\n",
       "<title>13</title>\n",
       "<path fill=\"#85efb1\" stroke=\"black\" d=\"M1078,-53C1078,-53 962,-53 962,-53 956,-53 950,-47 950,-41 950,-41 950,-12 950,-12 950,-6 956,0 962,0 962,0 1078,0 1078,0 1084,0 1090,-6 1090,-12 1090,-12 1090,-41 1090,-41 1090,-47 1084,-53 1078,-53\"/>\n",
       "<text text-anchor=\"start\" x=\"976\" y=\"-37.8\" font-family=\"Helvetica,sans-Serif\" font-size=\"14.00\">gini = 0.401</text>\n",
       "<text text-anchor=\"start\" x=\"971.5\" y=\"-22.8\" font-family=\"Helvetica,sans-Serif\" font-size=\"14.00\">samples = 18</text>\n",
       "<text text-anchor=\"start\" x=\"958\" y=\"-7.8\" font-family=\"Helvetica,sans-Serif\" font-size=\"14.00\">value = [0, 13, 5]</text>\n",
       "</g>\n",
       "<!-- 12&#45;&gt;13 -->\n",
       "<g id=\"edge13\" class=\"edge\">\n",
       "<title>12&#45;&gt;13</title>\n",
       "<path fill=\"none\" stroke=\"black\" d=\"M1020,-88.95C1020,-80.72 1020,-71.85 1020,-63.48\"/>\n",
       "<polygon fill=\"black\" stroke=\"black\" points=\"1023.5,-63.24 1020,-53.24 1016.5,-63.24 1023.5,-63.24\"/>\n",
       "</g>\n",
       "<!-- 14 -->\n",
       "<g id=\"node15\" class=\"node\">\n",
       "<title>14</title>\n",
       "<path fill=\"#8139e5\" stroke=\"black\" d=\"M1227.5,-53C1227.5,-53 1120.5,-53 1120.5,-53 1114.5,-53 1108.5,-47 1108.5,-41 1108.5,-41 1108.5,-12 1108.5,-12 1108.5,-6 1114.5,0 1120.5,0 1120.5,0 1227.5,0 1227.5,0 1233.5,0 1239.5,-6 1239.5,-12 1239.5,-12 1239.5,-41 1239.5,-41 1239.5,-47 1233.5,-53 1227.5,-53\"/>\n",
       "<text text-anchor=\"start\" x=\"1139\" y=\"-37.8\" font-family=\"Helvetica,sans-Serif\" font-size=\"14.00\">gini = 0.0</text>\n",
       "<text text-anchor=\"start\" x=\"1130\" y=\"-22.8\" font-family=\"Helvetica,sans-Serif\" font-size=\"14.00\">samples = 3</text>\n",
       "<text text-anchor=\"start\" x=\"1116.5\" y=\"-7.8\" font-family=\"Helvetica,sans-Serif\" font-size=\"14.00\">value = [0, 0, 3]</text>\n",
       "</g>\n",
       "<!-- 12&#45;&gt;14 -->\n",
       "<g id=\"edge14\" class=\"edge\">\n",
       "<title>12&#45;&gt;14</title>\n",
       "<path fill=\"none\" stroke=\"black\" d=\"M1073.86,-88.95C1089.96,-79.07 1107.55,-68.28 1123.43,-58.53\"/>\n",
       "<polygon fill=\"black\" stroke=\"black\" points=\"1125.37,-61.45 1132.06,-53.24 1121.7,-55.48 1125.37,-61.45\"/>\n",
       "</g>\n",
       "</g>\n",
       "</svg>\n"
      ],
      "text/plain": [
       "<graphviz.files.Source at 0x7f8b4647f490>"
      ]
     },
     "execution_count": 48,
     "metadata": {},
     "output_type": "execute_result"
    }
   ],
   "source": [
    "runtree(rep_important, rep_pred, 3, 42)"
   ]
  },
  {
   "cell_type": "markdown",
   "metadata": {},
   "source": [
    "### Plot error of trees over different max depths"
   ]
  },
  {
   "cell_type": "code",
   "execution_count": 52,
   "metadata": {},
   "outputs": [
    {
     "data": {
      "text/plain": [
       "[<matplotlib.lines.Line2D at 0x7f8bbc965cd0>]"
      ]
     },
     "execution_count": 52,
     "metadata": {},
     "output_type": "execute_result"
    },
    {
     "data": {
      "image/png": "[encoded data removed]",
      "text/plain": [
       "<Figure size 432x288 with 1 Axes>"
      ]
     },
     "metadata": {
      "needs_background": "light"
     },
     "output_type": "display_data"
    }
   ],
   "source": [
    "# Dems error line\n",
    "score = []\n",
    "for i in range(1,15):\n",
    "    clf = tree.DecisionTreeClassifier(random_state=0, max_depth=i)\n",
    "    clf = clf.fit(dem_endorse, dem_pred)\n",
    "    score += [clf.score(dem_endorse, dem_pred)]\n",
    "\n",
    "plt.plot(range(1,15), score)"
   ]
  },
  {
   "cell_type": "code",
   "execution_count": 53,
   "metadata": {},
   "outputs": [
    {
     "data": {
      "text/plain": [
       "[<matplotlib.lines.Line2D at 0x7f8bbc8c0a30>]"
      ]
     },
     "execution_count": 53,
     "metadata": {},
     "output_type": "execute_result"
    },
    {
     "data": {
      "image/png": "[encoded data removed]",
      "text/plain": [
       "<Figure size 432x288 with 1 Axes>"
      ]
     },
     "metadata": {
      "needs_background": "light"
     },
     "output_type": "display_data"
    }
   ],
   "source": [
    "# Rep error line\n",
    "score = []\n",
    "for i in range(1,15):\n",
    "    clf = tree.DecisionTreeClassifier(random_state=0, max_depth=i)\n",
    "    clf = clf.fit(rep_important, rep_pred)\n",
    "    score += [clf.score(rep_important, rep_pred)]\n",
    "\n",
    "plt.plot(range(1,15), score)"
   ]
  },
  {
   "cell_type": "markdown",
   "metadata": {},
   "source": [
    "# Regressions"
   ]
  },
  {
   "cell_type": "markdown",
   "metadata": {},
   "source": [
    "### Dem"
   ]
  },
  {
   "cell_type": "code",
   "execution_count": 76,
   "metadata": {},
   "outputs": [],
   "source": [
    "log_dem_endorse = dem_endorse.replace({-1:0, 0:0.5})\n",
    "log_dem_pred = dem_pred.replace({-1:0, 0:0.5})"
   ]
  },
  {
   "cell_type": "code",
   "execution_count": 77,
   "metadata": {},
   "outputs": [
    {
     "data": {
      "text/plain": [
       "LinearRegression()"
      ]
     },
     "execution_count": 77,
     "metadata": {},
     "output_type": "execute_result"
    }
   ],
   "source": [
    "clf = LinearRegression()\n",
    "clf.fit(dem_endorse,\n",
    "        dem_pred)"
   ]
  },
  {
   "cell_type": "code",
   "execution_count": 78,
   "metadata": {},
   "outputs": [
    {
     "name": "stdout",
     "output_type": "stream",
     "text": [
      "Optimization terminated successfully.\n",
      "         Current function value: 0.683646\n",
      "         Iterations 4\n",
      "                           Logit Regression Results                           \n",
      "==============================================================================\n",
      "Dep. Variable:        Biden Endorsed?   No. Observations:                  811\n",
      "Model:                          Logit   Df Residuals:                      800\n",
      "Method:                           MLE   Df Model:                           10\n",
      "Date:                Sun, 09 May 2021   Pseudo R-squ.:                0.005157\n",
      "Time:                        20:33:39   Log-Likelihood:                -554.44\n",
      "converged:                       True   LL-Null:                       -557.31\n",
      "Covariance Type:            nonrobust   LLR p-value:                    0.8360\n",
      "============================================================================================\n",
      "                               coef    std err          z      P>|z|      [0.025      0.975]\n",
      "--------------------------------------------------------------------------------------------\n",
      "Party Support?               0.9420      0.406      2.322      0.020       0.147       1.737\n",
      "Our Revolution Endorsed?     0.0525      0.268      0.196      0.845      -0.474       0.579\n",
      "No Labels Support?          -0.0393      1.098     -0.036      0.971      -2.191       2.112\n",
      "Justice Dems Endorsed?      -0.0471      0.328     -0.143      0.886      -0.690       0.596\n",
      "PCCC Endorsed?              -0.0551      0.584     -0.094      0.925      -1.199       1.089\n",
      "Indivisible Endorsed?       -0.0685      0.353     -0.194      0.846      -0.761       0.624\n",
      "WFP Endorsed?                0.0029      0.420      0.007      0.995      -0.821       0.827\n",
      "VoteVets Endorsed?           0.0250      0.441      0.057      0.955      -0.840       0.890\n",
      "Emily Endorsed?              0.1256      0.306      0.411      0.681      -0.473       0.725\n",
      "Guns Sense Candidate?       -0.0090      0.214     -0.042      0.966      -0.429       0.411\n",
      "const                       -0.4684      0.686     -0.683      0.495      -1.812       0.875\n",
      "============================================================================================\n"
     ]
    }
   ],
   "source": [
    "log_dem = sm.Logit(log_dem_pred, sm.add_constant(log_dem_endorse, prepend=False)).fit()\n",
    "print(log_dem.summary())\n"
   ]
  },
  {
   "cell_type": "code",
   "execution_count": 84,
   "metadata": {},
   "outputs": [
    {
     "data": {
      "text/plain": [
       "0      0.5\n",
       "1      0.5\n",
       "2      0.5\n",
       "3      0.5\n",
       "4      0.5\n",
       "      ... \n",
       "806    0.5\n",
       "807    0.5\n",
       "808    0.5\n",
       "809    0.5\n",
       "810    0.5\n",
       "Name: Biden Endorsed?, Length: 811, dtype: float64"
      ]
     },
     "execution_count": 84,
     "metadata": {},
     "output_type": "execute_result"
    }
   ],
   "source": [
    "log_dem_pred.iloc[:, 0]"
   ]
  },
  {
   "cell_type": "code",
   "execution_count": 87,
   "metadata": {},
   "outputs": [
    {
     "data": {
      "text/plain": [
       "0.009361732789331955"
      ]
     },
     "execution_count": 87,
     "metadata": {},
     "output_type": "execute_result"
    }
   ],
   "source": [
    "# L2 loss function\n",
    "np.mean((log_dem_pred.iloc[:,0].to_numpy() - log_dem.predict(sm.add_constant(log_dem_endorse, prepend=False)).to_numpy())**2)"
   ]
  },
  {
   "cell_type": "code",
   "execution_count": 105,
   "metadata": {},
   "outputs": [
    {
     "data": {
      "text/plain": [
       "26.500000000000014"
      ]
     },
     "execution_count": 105,
     "metadata": {},
     "output_type": "execute_result"
    }
   ],
   "source": [
    "predictions = log_dem.predict(sm.add_constant(log_dem_endorse, prepend=False))\n",
    "\n",
    "rounded = np.round_(predictions, decimals = 1)\n",
    "sum(np.abs(log_dem_pred.iloc[:,0].to_numpy() - rounded.to_numpy()))"
   ]
  },
  {
   "cell_type": "code",
   "execution_count": 104,
   "metadata": {},
   "outputs": [
    {
     "data": {
      "text/plain": [
       "0.17632552404438964"
      ]
     },
     "execution_count": 104,
     "metadata": {},
     "output_type": "execute_result"
    }
   ],
   "source": [
    "sum(rounded != log_dem_pred.iloc[:,0])/len(log_dem_pred)"
   ]
  },
  {
   "cell_type": "markdown",
   "metadata": {},
   "source": [
    "### Rep"
   ]
  },
  {
   "cell_type": "code",
   "execution_count": 64,
   "metadata": {},
   "outputs": [],
   "source": [
    "log_rep_important = rep_important.replace({-1:0, 0:0.5})\n",
    "log_rep_pred = rep_pred.replace({-1:0, 0:0.5})"
   ]
  },
  {
   "cell_type": "code",
   "execution_count": 65,
   "metadata": {},
   "outputs": [
    {
     "name": "stdout",
     "output_type": "stream",
     "text": [
      "Optimization terminated successfully.\n",
      "         Current function value: 0.668550\n",
      "         Iterations 5\n",
      "                           Logit Regression Results                           \n",
      "==============================================================================\n",
      "Dep. Variable:        Trump Endorsed?   No. Observations:                  774\n",
      "Model:                          Logit   Df Residuals:                      760\n",
      "Method:                           MLE   Df Model:                           13\n",
      "Date:                Sun, 09 May 2021   Pseudo R-squ.:                 0.01692\n",
      "Time:                        20:30:04   Log-Likelihood:                -517.46\n",
      "converged:                       True   LL-Null:                       -526.36\n",
      "Covariance Type:            nonrobust   LLR p-value:                    0.1649\n",
      "==============================================================================================\n",
      "                                 coef    std err          z      P>|z|      [0.025      0.975]\n",
      "----------------------------------------------------------------------------------------------\n",
      "Rep Party Support?            -0.1146      0.358     -0.320      0.749      -0.817       0.588\n",
      "Bannon Endorsed?               0.4105      1.049      0.391      0.696      -1.645       2.466\n",
      "Great America Endorsed?        1.0497      1.182      0.888      0.374      -1.267       3.366\n",
      "NRA Endorsed?                  0.6032      0.537      1.123      0.261      -0.449       1.656\n",
      "Right to Life Endorsed?        0.2299      0.264      0.869      0.385      -0.288       0.748\n",
      "Susan B. Anthony Endorsed?    -0.1415      0.407     -0.347      0.728      -0.940       0.657\n",
      "Club for Growth Endorsed?      0.1054      0.535      0.197      0.844      -0.943       1.154\n",
      "Koch Support?                  1.2972      0.453      2.864      0.004       0.409       2.185\n",
      "House Freedom Support?        -0.2663      0.553     -0.481      0.630      -1.350       0.818\n",
      "Tea Party Endorsed?           -0.3180      0.501     -0.634      0.526      -1.301       0.665\n",
      "Main Street Endorsed?         -0.0339      0.447     -0.076      0.940      -0.911       0.843\n",
      "Chamber Endorsed?              1.5334      0.883      1.737      0.082      -0.196       3.263\n",
      "No Labels Support?             0.1124      0.908      0.124      0.901      -1.666       1.891\n",
      "const                         -2.2363      0.818     -2.734      0.006      -3.840      -0.633\n",
      "==============================================================================================\n"
     ]
    }
   ],
   "source": [
    "log_rep = sm.Logit(log_rep_pred, sm.add_constant(log_rep_important, prepend=False)).fit()\n",
    "print(log_rep.summary())"
   ]
  },
  {
   "cell_type": "code",
   "execution_count": 106,
   "metadata": {
    "scrolled": true
   },
   "outputs": [
    {
     "data": {
      "text/plain": [
       "0.015298504302500992"
      ]
     },
     "execution_count": 106,
     "metadata": {},
     "output_type": "execute_result"
    }
   ],
   "source": [
    "# L2 Loss function\n",
    "np.mean((log_rep_pred.iloc[:,0].to_numpy() - log_rep.predict(sm.add_constant(log_rep_important, prepend=False)).to_numpy())**2)"
   ]
  },
  {
   "cell_type": "code",
   "execution_count": 107,
   "metadata": {},
   "outputs": [
    {
     "data": {
      "text/plain": [
       "42.90000000000007"
      ]
     },
     "execution_count": 107,
     "metadata": {},
     "output_type": "execute_result"
    }
   ],
   "source": [
    "predictions = log_rep.predict(sm.add_constant(log_rep_important, prepend=False))\n",
    "\n",
    "rounded = np.round_(predictions, decimals = 1)\n",
    "sum(np.abs(log_rep_pred.iloc[:,0].to_numpy() - rounded.to_numpy()))"
   ]
  },
  {
   "cell_type": "code",
   "execution_count": 108,
   "metadata": {},
   "outputs": [
    {
     "data": {
      "text/plain": [
       "0.2648578811369509"
      ]
     },
     "execution_count": 108,
     "metadata": {},
     "output_type": "execute_result"
    }
   ],
   "source": [
    "sum(rounded != log_rep_pred.iloc[:,0])/len(log_rep_pred)"
   ]
  },
  {
   "cell_type": "code",
   "execution_count": null,
   "metadata": {},
   "outputs": [],
   "source": []
  }
 ],
 "metadata": {
  "kernelspec": {
   "display_name": "Python 3",
   "language": "python",
   "name": "python3"
  },
  "language_info": {
   "codemirror_mode": {
    "name": "ipython",
    "version": 3
   },
   "file_extension": ".py",
   "mimetype": "text/x-python",
   "name": "python",
   "nbconvert_exporter": "python",
   "pygments_lexer": "ipython3",
   "version": "3.8.5"
  }
 },
 "nbformat": 4,
 "nbformat_minor": 5
}
