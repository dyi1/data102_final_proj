{
 "cells": [
  {
   "cell_type": "code",
   "execution_count": 1,
   "metadata": {},
   "outputs": [],
   "source": [
    "import pandas as pd\n",
    "import numpy as np\n",
    "import matplotlib.pyplot as plt"
   ]
  },
  {
   "cell_type": "markdown",
   "metadata": {},
   "source": [
    "## Financial"
   ]
  },
  {
   "cell_type": "code",
   "execution_count": 51,
   "metadata": {},
   "outputs": [
    {
     "data": {
      "text/html": [
       "<div>\n",
       "<style scoped>\n",
       "    .dataframe tbody tr th:only-of-type {\n",
       "        vertical-align: middle;\n",
       "    }\n",
       "\n",
       "    .dataframe tbody tr th {\n",
       "        vertical-align: top;\n",
       "    }\n",
       "\n",
       "    .dataframe thead th {\n",
       "        text-align: right;\n",
       "    }\n",
       "</style>\n",
       "<table border=\"1\" class=\"dataframe\">\n",
       "  <thead>\n",
       "    <tr style=\"text-align: right;\">\n",
       "      <th></th>\n",
       "      <th>Candidate</th>\n",
       "      <th>election_status</th>\n",
       "      <th>is_dem</th>\n",
       "      <th>TTL_RECEIPTS</th>\n",
       "    </tr>\n",
       "  </thead>\n",
       "  <tbody>\n",
       "    <tr>\n",
       "      <th>0</th>\n",
       "      <td>Lizzetta Hill McConnell</td>\n",
       "      <td>0</td>\n",
       "      <td>1</td>\n",
       "      <td>5127.00</td>\n",
       "    </tr>\n",
       "    <tr>\n",
       "      <th>1</th>\n",
       "      <td>Robert Kennedy Jr.</td>\n",
       "      <td>1</td>\n",
       "      <td>1</td>\n",
       "      <td>166845.21</td>\n",
       "    </tr>\n",
       "    <tr>\n",
       "      <th>2</th>\n",
       "      <td>Robert Kennedy Jr.</td>\n",
       "      <td>1</td>\n",
       "      <td>1</td>\n",
       "      <td>37129.00</td>\n",
       "    </tr>\n",
       "    <tr>\n",
       "      <th>3</th>\n",
       "      <td>Audri Scott Williams</td>\n",
       "      <td>0</td>\n",
       "      <td>1</td>\n",
       "      <td>35365.02</td>\n",
       "    </tr>\n",
       "    <tr>\n",
       "      <th>4</th>\n",
       "      <td>Tabitha Isner</td>\n",
       "      <td>1</td>\n",
       "      <td>1</td>\n",
       "      <td>524941.35</td>\n",
       "    </tr>\n",
       "    <tr>\n",
       "      <th>...</th>\n",
       "      <td>...</td>\n",
       "      <td>...</td>\n",
       "      <td>...</td>\n",
       "      <td>...</td>\n",
       "    </tr>\n",
       "    <tr>\n",
       "      <th>706</th>\n",
       "      <td>Leah Vukmir</td>\n",
       "      <td>1</td>\n",
       "      <td>0</td>\n",
       "      <td>5852699.03</td>\n",
       "    </tr>\n",
       "    <tr>\n",
       "      <th>707</th>\n",
       "      <td>Kevin Nicholson</td>\n",
       "      <td>0</td>\n",
       "      <td>0</td>\n",
       "      <td>3893750.00</td>\n",
       "    </tr>\n",
       "    <tr>\n",
       "      <th>708</th>\n",
       "      <td>Griffin Jones</td>\n",
       "      <td>0</td>\n",
       "      <td>0</td>\n",
       "      <td>10318.00</td>\n",
       "    </tr>\n",
       "    <tr>\n",
       "      <th>709</th>\n",
       "      <td>Charles Barman</td>\n",
       "      <td>0</td>\n",
       "      <td>0</td>\n",
       "      <td>0.00</td>\n",
       "    </tr>\n",
       "    <tr>\n",
       "      <th>710</th>\n",
       "      <td>George Lucia</td>\n",
       "      <td>0</td>\n",
       "      <td>0</td>\n",
       "      <td>0.00</td>\n",
       "    </tr>\n",
       "  </tbody>\n",
       "</table>\n",
       "<p>1430 rows × 4 columns</p>\n",
       "</div>"
      ],
      "text/plain": [
       "                   Candidate  election_status  is_dem  TTL_RECEIPTS\n",
       "0    Lizzetta Hill McConnell                0       1       5127.00\n",
       "1         Robert Kennedy Jr.                1       1     166845.21\n",
       "2         Robert Kennedy Jr.                1       1      37129.00\n",
       "3       Audri Scott Williams                0       1      35365.02\n",
       "4              Tabitha Isner                1       1     524941.35\n",
       "..                       ...              ...     ...           ...\n",
       "706              Leah Vukmir                1       0    5852699.03\n",
       "707          Kevin Nicholson                0       0    3893750.00\n",
       "708            Griffin Jones                0       0      10318.00\n",
       "709           Charles Barman                0       0          0.00\n",
       "710             George Lucia                0       0          0.00\n",
       "\n",
       "[1430 rows x 4 columns]"
      ]
     },
     "execution_count": 51,
     "metadata": {},
     "output_type": "execute_result"
    }
   ],
   "source": [
    "merged_dems = pd.read_csv('merged_dems.csv')\n",
    "merged_reps = pd.read_csv('merged_reps.csv')\n",
    "merged_dems['election_status'] = merged_dems['Primary Status'].replace({'Lost': 0, 'Advanced': 1})\n",
    "merged_dems['is_dem'] = 1\n",
    "merged_reps['election_status'] = merged_reps['Primary Status'].replace(\n",
    "    {'Lost': 0, 'Advanced': 1, 'On the Ballot': 1})\n",
    "merged_reps['is_dem'] = 0\n",
    "\n",
    "merged_dems['TTL_RECEIPTS'] = merged_dems['TTL_RECEIPTS'].fillna(0)\n",
    "merged_reps['TTL_RECEIPTS'] = merged_reps['TTL_RECEIPTS'].fillna(0)\n",
    "\n",
    "dems_eda = merged_dems[['Candidate', 'election_status', 'is_dem', 'TTL_RECEIPTS']]\n",
    "reps_eda = merged_reps[['Candidate', 'election_status', 'is_dem', 'TTL_RECEIPTS']]\n",
    "combined = pd.concat([dems_eda, reps_eda])\n",
    "combined"
   ]
  },
  {
   "cell_type": "code",
   "execution_count": 67,
   "metadata": {},
   "outputs": [
    {
     "data": {
      "text/html": [
       "<div>\n",
       "<style scoped>\n",
       "    .dataframe tbody tr th:only-of-type {\n",
       "        vertical-align: middle;\n",
       "    }\n",
       "\n",
       "    .dataframe tbody tr th {\n",
       "        vertical-align: top;\n",
       "    }\n",
       "\n",
       "    .dataframe thead th {\n",
       "        text-align: right;\n",
       "    }\n",
       "</style>\n",
       "<table border=\"1\" class=\"dataframe\">\n",
       "  <thead>\n",
       "    <tr style=\"text-align: right;\">\n",
       "      <th></th>\n",
       "      <th>Candidate</th>\n",
       "      <th>election_status</th>\n",
       "      <th>is_dem</th>\n",
       "      <th>TTL_RECEIPTS</th>\n",
       "    </tr>\n",
       "  </thead>\n",
       "  <tbody>\n",
       "    <tr>\n",
       "      <th>167</th>\n",
       "      <td>Rick Scott</td>\n",
       "      <td>1</td>\n",
       "      <td>0</td>\n",
       "      <td>85231716.47</td>\n",
       "    </tr>\n",
       "  </tbody>\n",
       "</table>\n",
       "</div>"
      ],
      "text/plain": [
       "      Candidate  election_status  is_dem  TTL_RECEIPTS\n",
       "167  Rick Scott                1       0   85231716.47"
      ]
     },
     "execution_count": 67,
     "metadata": {},
     "output_type": "execute_result"
    }
   ],
   "source": [
    "combined[combined['TTL_RECEIPTS'].astype(int) > 40000000]"
   ]
  },
  {
   "cell_type": "code",
   "execution_count": 57,
   "metadata": {},
   "outputs": [
    {
     "data": {
      "image/png": "[encoded data removed]",
      "text/plain": [
       "<Figure size 576x432 with 1 Axes>"
      ]
     },
     "metadata": {
      "needs_background": "light"
     },
     "output_type": "display_data"
    }
   ],
   "source": [
    "e = combined.groupby(['election_status']).agg(['mean', 'median'])['TTL_RECEIPTS']\n",
    "e.index = ['Loss', 'Advance']\n",
    "e.plot.bar(figsize=(8,6))\n",
    "plt.ylabel('Amount spent')\n",
    "plt.xlabel('Primary Result')\n",
    "plt.xticks(rotation=0)\n",
    "\n",
    "plt.title('Average Amount spent for candidates')\n",
    "plt.savefig('win_loss_spent')\n",
    "plt.show()"
   ]
  },
  {
   "cell_type": "code",
   "execution_count": 58,
   "metadata": {},
   "outputs": [
    {
     "data": {
      "image/png": "[encoded data removed]",
      "text/plain": [
       "<Figure size 576x432 with 1 Axes>"
      ]
     },
     "metadata": {
      "needs_background": "light"
     },
     "output_type": "display_data"
    }
   ],
   "source": [
    "e = combined.groupby(['is_dem']).agg(['mean', 'median'])['TTL_RECEIPTS']\n",
    "e.index = ['Republican', 'Democrat']\n",
    "e.plot.bar(figsize=(8,6))\n",
    "plt.ylabel('Amount spent')\n",
    "plt.xlabel('Party')\n",
    "plt.xticks(rotation=0)\n",
    "plt.title('Average spent between Democrats and Republicans')\n",
    "plt.savefig('spent_dem_rep')\n",
    "plt.show()"
   ]
  },
  {
   "cell_type": "code",
   "execution_count": 60,
   "metadata": {},
   "outputs": [
    {
     "data": {
      "image/png": "[encoded data removed]",
      "text/plain": [
       "<Figure size 576x432 with 1 Axes>"
      ]
     },
     "metadata": {
      "needs_background": "light"
     },
     "output_type": "display_data"
    }
   ],
   "source": [
    "e = combined.groupby(['election_status', 'is_dem']).agg(['mean', 'median']).unstack('election_status')['TTL_RECEIPTS']\n",
    "e.index = ['Republican', 'Democrat']\n",
    "\n",
    "x = e.plot.bar(figsize=(8,6))\n",
    "# x.get_legend().remove()\n",
    "\n",
    "plt.ylabel('Amount spent')\n",
    "plt.xlabel('Party')\n",
    "plt.xticks(rotation=0)\n",
    "plt.title('Average spent between Dems and Reps for Winners and Losers')\n",
    "plt.savefig('win_loss_spent_dem_rep')\n",
    "plt.show()"
   ]
  },
  {
   "cell_type": "code",
   "execution_count": null,
   "metadata": {},
   "outputs": [],
   "source": []
  },
  {
   "cell_type": "markdown",
   "metadata": {},
   "source": [
    "## Groups"
   ]
  },
  {
   "cell_type": "code",
   "execution_count": 117,
   "metadata": {},
   "outputs": [],
   "source": [
    "dems = pd.read_csv('dem_candidates.csv')"
   ]
  },
  {
   "cell_type": "code",
   "execution_count": 148,
   "metadata": {},
   "outputs": [
    {
     "data": {
      "text/plain": [
       "Index(['Candidate', 'State', 'District', 'Office Type', 'Race Type',\n",
       "       'Race Primary Election Date', 'Primary Status', 'Primary Runoff Status',\n",
       "       'General Status', 'Partisan Lean', 'Primary %', 'Won Primary', 'Race',\n",
       "       'Veteran?', 'LGBTQ?', 'Elected Official?', 'Self-Funder?', 'STEM?',\n",
       "       'Obama Alum?', 'Party Support?', 'Emily Endorsed?',\n",
       "       'Guns Sense Candidate?', 'Biden Endorsed?', 'Warren Endorsed? ',\n",
       "       'Sanders Endorsed?', 'Our Revolution Endorsed?',\n",
       "       'Justice Dems Endorsed?', 'PCCC Endorsed?', 'Indivisible Endorsed?',\n",
       "       'WFP Endorsed?', 'VoteVets Endorsed?', 'No Labels Support?'],\n",
       "      dtype='object')"
      ]
     },
     "execution_count": 148,
     "metadata": {},
     "output_type": "execute_result"
    }
   ],
   "source": [
    "dems.columns"
   ]
  },
  {
   "cell_type": "code",
   "execution_count": 149,
   "metadata": {},
   "outputs": [
    {
     "data": {
      "text/html": [
       "<div>\n",
       "<style scoped>\n",
       "    .dataframe tbody tr th:only-of-type {\n",
       "        vertical-align: middle;\n",
       "    }\n",
       "\n",
       "    .dataframe tbody tr th {\n",
       "        vertical-align: top;\n",
       "    }\n",
       "\n",
       "    .dataframe thead th {\n",
       "        text-align: right;\n",
       "    }\n",
       "</style>\n",
       "<table border=\"1\" class=\"dataframe\">\n",
       "  <thead>\n",
       "    <tr style=\"text-align: right;\">\n",
       "      <th></th>\n",
       "      <th>Candidate</th>\n",
       "      <th>State</th>\n",
       "      <th>District</th>\n",
       "      <th>Won Primary</th>\n",
       "      <th>Party Support?</th>\n",
       "      <th>Emily Endorsed?</th>\n",
       "      <th>Guns Sense Candidate?</th>\n",
       "      <th>Biden Endorsed?</th>\n",
       "      <th>Warren Endorsed?</th>\n",
       "      <th>Sanders Endorsed?</th>\n",
       "      <th>Our Revolution Endorsed?</th>\n",
       "      <th>Justice Dems Endorsed?</th>\n",
       "      <th>PCCC Endorsed?</th>\n",
       "      <th>Indivisible Endorsed?</th>\n",
       "      <th>WFP Endorsed?</th>\n",
       "      <th>VoteVets Endorsed?</th>\n",
       "      <th>No Labels Support?</th>\n",
       "      <th>total</th>\n",
       "    </tr>\n",
       "  </thead>\n",
       "  <tbody>\n",
       "    <tr>\n",
       "      <th>0</th>\n",
       "      <td>Anthony White (Alabama)</td>\n",
       "      <td>AL</td>\n",
       "      <td>Governor of Alabama</td>\n",
       "      <td>0</td>\n",
       "      <td>0</td>\n",
       "      <td>0</td>\n",
       "      <td>0</td>\n",
       "      <td>0</td>\n",
       "      <td>0</td>\n",
       "      <td>0</td>\n",
       "      <td>0</td>\n",
       "      <td>0</td>\n",
       "      <td>0</td>\n",
       "      <td>0</td>\n",
       "      <td>0</td>\n",
       "      <td>0</td>\n",
       "      <td>0</td>\n",
       "      <td>0</td>\n",
       "    </tr>\n",
       "    <tr>\n",
       "      <th>1</th>\n",
       "      <td>Christopher Countryman</td>\n",
       "      <td>AL</td>\n",
       "      <td>Governor of Alabama</td>\n",
       "      <td>0</td>\n",
       "      <td>0</td>\n",
       "      <td>0</td>\n",
       "      <td>0</td>\n",
       "      <td>0</td>\n",
       "      <td>0</td>\n",
       "      <td>0</td>\n",
       "      <td>0</td>\n",
       "      <td>0</td>\n",
       "      <td>0</td>\n",
       "      <td>0</td>\n",
       "      <td>0</td>\n",
       "      <td>0</td>\n",
       "      <td>0</td>\n",
       "      <td>0</td>\n",
       "    </tr>\n",
       "    <tr>\n",
       "      <th>2</th>\n",
       "      <td>Doug \"New Blue\" Smith</td>\n",
       "      <td>AL</td>\n",
       "      <td>Governor of Alabama</td>\n",
       "      <td>0</td>\n",
       "      <td>0</td>\n",
       "      <td>0</td>\n",
       "      <td>0</td>\n",
       "      <td>0</td>\n",
       "      <td>0</td>\n",
       "      <td>0</td>\n",
       "      <td>0</td>\n",
       "      <td>0</td>\n",
       "      <td>0</td>\n",
       "      <td>0</td>\n",
       "      <td>0</td>\n",
       "      <td>0</td>\n",
       "      <td>0</td>\n",
       "      <td>0</td>\n",
       "    </tr>\n",
       "    <tr>\n",
       "      <th>3</th>\n",
       "      <td>James C. Fields</td>\n",
       "      <td>AL</td>\n",
       "      <td>Governor of Alabama</td>\n",
       "      <td>0</td>\n",
       "      <td>0</td>\n",
       "      <td>0</td>\n",
       "      <td>0</td>\n",
       "      <td>0</td>\n",
       "      <td>0</td>\n",
       "      <td>0</td>\n",
       "      <td>0</td>\n",
       "      <td>0</td>\n",
       "      <td>0</td>\n",
       "      <td>0</td>\n",
       "      <td>0</td>\n",
       "      <td>0</td>\n",
       "      <td>0</td>\n",
       "      <td>0</td>\n",
       "    </tr>\n",
       "    <tr>\n",
       "      <th>4</th>\n",
       "      <td>Sue Bell Cobb</td>\n",
       "      <td>AL</td>\n",
       "      <td>Governor of Alabama</td>\n",
       "      <td>0</td>\n",
       "      <td>0</td>\n",
       "      <td>0</td>\n",
       "      <td>0</td>\n",
       "      <td>0</td>\n",
       "      <td>0</td>\n",
       "      <td>0</td>\n",
       "      <td>0</td>\n",
       "      <td>0</td>\n",
       "      <td>0</td>\n",
       "      <td>0</td>\n",
       "      <td>0</td>\n",
       "      <td>0</td>\n",
       "      <td>0</td>\n",
       "      <td>0</td>\n",
       "    </tr>\n",
       "  </tbody>\n",
       "</table>\n",
       "</div>"
      ],
      "text/plain": [
       "                 Candidate State             District  Won Primary  \\\n",
       "0  Anthony White (Alabama)    AL  Governor of Alabama            0   \n",
       "1   Christopher Countryman    AL  Governor of Alabama            0   \n",
       "2    Doug \"New Blue\" Smith    AL  Governor of Alabama            0   \n",
       "3          James C. Fields    AL  Governor of Alabama            0   \n",
       "4            Sue Bell Cobb    AL  Governor of Alabama            0   \n",
       "\n",
       "   Party Support?  Emily Endorsed?  Guns Sense Candidate?  Biden Endorsed?  \\\n",
       "0               0                0                      0                0   \n",
       "1               0                0                      0                0   \n",
       "2               0                0                      0                0   \n",
       "3               0                0                      0                0   \n",
       "4               0                0                      0                0   \n",
       "\n",
       "   Warren Endorsed?   Sanders Endorsed?  Our Revolution Endorsed?  \\\n",
       "0                  0                  0                         0   \n",
       "1                  0                  0                         0   \n",
       "2                  0                  0                         0   \n",
       "3                  0                  0                         0   \n",
       "4                  0                  0                         0   \n",
       "\n",
       "   Justice Dems Endorsed?  PCCC Endorsed?  Indivisible Endorsed?  \\\n",
       "0                       0               0                      0   \n",
       "1                       0               0                      0   \n",
       "2                       0               0                      0   \n",
       "3                       0               0                      0   \n",
       "4                       0               0                      0   \n",
       "\n",
       "   WFP Endorsed?  VoteVets Endorsed?  No Labels Support?  total  \n",
       "0              0                   0                   0      0  \n",
       "1              0                   0                   0      0  \n",
       "2              0                   0                   0      0  \n",
       "3              0                   0                   0      0  \n",
       "4              0                   0                   0      0  "
      ]
     },
     "execution_count": 149,
     "metadata": {},
     "output_type": "execute_result"
    }
   ],
   "source": [
    "endorsement_cols = ['Party Support?', 'Emily Endorsed?',\n",
    "       'Guns Sense Candidate?', 'Biden Endorsed?', 'Warren Endorsed? ',\n",
    "       'Sanders Endorsed?', 'Our Revolution Endorsed?',\n",
    "       'Justice Dems Endorsed?', 'PCCC Endorsed?', 'Indivisible Endorsed?',\n",
    "       'WFP Endorsed?', 'VoteVets Endorsed?', 'No Labels Support?']\n",
    "\n",
    "dem_endorse = dems[['Candidate', 'State', 'District', 'Won Primary'] + endorsement_cols] \\\n",
    "    .fillna(0).replace({'No': 0, 'Yes': 1})\n",
    "dem_endorse['total'] = dem_endorse[endorsement_cols].sum(axis=1)\n",
    "dem_endorse.head()"
   ]
  },
  {
   "cell_type": "code",
   "execution_count": 144,
   "metadata": {},
   "outputs": [
    {
     "data": {
      "text/html": [
       "<div>\n",
       "<style scoped>\n",
       "    .dataframe tbody tr th:only-of-type {\n",
       "        vertical-align: middle;\n",
       "    }\n",
       "\n",
       "    .dataframe tbody tr th {\n",
       "        vertical-align: top;\n",
       "    }\n",
       "\n",
       "    .dataframe thead th {\n",
       "        text-align: right;\n",
       "    }\n",
       "</style>\n",
       "<table border=\"1\" class=\"dataframe\">\n",
       "  <thead>\n",
       "    <tr style=\"text-align: right;\">\n",
       "      <th></th>\n",
       "      <th>Candidate</th>\n",
       "      <th>State</th>\n",
       "      <th>District</th>\n",
       "      <th>Party Support?</th>\n",
       "      <th>Emily Endorsed?</th>\n",
       "      <th>Guns Sense Candidate?</th>\n",
       "      <th>Biden Endorsed?</th>\n",
       "      <th>Warren Endorsed?</th>\n",
       "      <th>Sanders Endorsed?</th>\n",
       "      <th>Our Revolution Endorsed?</th>\n",
       "      <th>Justice Dems Endorsed?</th>\n",
       "      <th>PCCC Endorsed?</th>\n",
       "      <th>Indivisible Endorsed?</th>\n",
       "      <th>WFP Endorsed?</th>\n",
       "      <th>VoteVets Endorsed?</th>\n",
       "      <th>No Labels Support?</th>\n",
       "      <th>total</th>\n",
       "    </tr>\n",
       "  </thead>\n",
       "  <tbody>\n",
       "    <tr>\n",
       "      <th>75</th>\n",
       "      <td>Katherine Porter</td>\n",
       "      <td>CA</td>\n",
       "      <td>U.S. House California District 45</td>\n",
       "      <td>1</td>\n",
       "      <td>1</td>\n",
       "      <td>1</td>\n",
       "      <td>0</td>\n",
       "      <td>1</td>\n",
       "      <td>0</td>\n",
       "      <td>1</td>\n",
       "      <td>0</td>\n",
       "      <td>1</td>\n",
       "      <td>0</td>\n",
       "      <td>0</td>\n",
       "      <td>0</td>\n",
       "      <td>0</td>\n",
       "      <td>6</td>\n",
       "    </tr>\n",
       "  </tbody>\n",
       "</table>\n",
       "</div>"
      ],
      "text/plain": [
       "           Candidate State                           District  Party Support?  \\\n",
       "75  Katherine Porter    CA  U.S. House California District 45               1   \n",
       "\n",
       "    Emily Endorsed?  Guns Sense Candidate?  Biden Endorsed?  \\\n",
       "75                1                      1                0   \n",
       "\n",
       "    Warren Endorsed?   Sanders Endorsed?  Our Revolution Endorsed?  \\\n",
       "75                  1                  0                         1   \n",
       "\n",
       "    Justice Dems Endorsed?  PCCC Endorsed?  Indivisible Endorsed?  \\\n",
       "75                       0               1                      0   \n",
       "\n",
       "    WFP Endorsed?  VoteVets Endorsed?  No Labels Support?  total  \n",
       "75              0                   0                   0      6  "
      ]
     },
     "execution_count": 144,
     "metadata": {},
     "output_type": "execute_result"
    }
   ],
   "source": [
    "dem_endorse[dem_endorse['total'] == 6]"
   ]
  },
  {
   "cell_type": "code",
   "execution_count": 138,
   "metadata": {},
   "outputs": [
    {
     "data": {
      "image/png": "[encoded data removed]",
      "text/plain": [
       "<Figure size 576x432 with 1 Axes>"
      ]
     },
     "metadata": {
      "needs_background": "light"
     },
     "output_type": "display_data"
    }
   ],
   "source": [
    "plt.figure(figsize=(8,6))\n",
    "dem_endorse['total'].value_counts().plot(kind = 'bar')\n",
    "plt.title('Number of Endorsements Received by Dem. Candidates')\n",
    "plt.xlabel('Number of Endorsements Given')\n",
    "plt.savefig('dem_endorse_count')\n",
    "plt.show()"
   ]
  },
  {
   "cell_type": "code",
   "execution_count": 162,
   "metadata": {},
   "outputs": [
    {
     "data": {
      "image/png": "[encoded data removed]",
      "text/plain": [
       "<Figure size 720x504 with 1 Axes>"
      ]
     },
     "metadata": {
      "needs_background": "light"
     },
     "output_type": "display_data"
    }
   ],
   "source": [
    "plt.figure(figsize=(10,7))\n",
    "dem_endorse.groupby('District').agg('sum')['total'] \\\n",
    "    .sort_values(ascending=False)[:10].plot(kind = 'barh')\n",
    "plt.tight_layout()\n",
    "plt.title('Top 10 Districts with most Democratic endorsements')\n",
    "plt.xlabel('Number of Endorsements Given')\n",
    "# plt.savefig('dem_endorse_dist')\n",
    "plt.show()"
   ]
  },
  {
   "cell_type": "code",
   "execution_count": 140,
   "metadata": {
    "scrolled": true
   },
   "outputs": [
    {
     "data": {
      "image/png": "[encoded data removed]",
      "text/plain": [
       "<Figure size 576x432 with 1 Axes>"
      ]
     },
     "metadata": {
      "needs_background": "light"
     },
     "output_type": "display_data"
    }
   ],
   "source": [
    "plt.figure(figsize=(8,6))\n",
    "dem_endorse.groupby(['State', 'District']).agg('sum')['total'].reset_index() \\\n",
    "    .groupby('State').agg('mean')['total'].sort_values(ascending=False).plot(kind = 'bar')\n",
    "\n",
    "plt.title('Average Endorsements per Election Within Each State')\n",
    "plt.xlabel('Number of Endorsements Given')\n",
    "plt.savefig('dem_endorse_state')\n",
    "\n",
    "plt.show()"
   ]
  },
  {
   "cell_type": "markdown",
   "metadata": {},
   "source": [
    "## Republicans"
   ]
  },
  {
   "cell_type": "code",
   "execution_count": 127,
   "metadata": {},
   "outputs": [
    {
     "data": {
      "text/plain": [
       "Index(['Candidate', 'State', 'District', 'Office Type', 'Race Type',\n",
       "       'Race Primary Election Date', 'Primary Status', 'Primary Runoff Status',\n",
       "       'General Status', 'Primary %', 'Won Primary', 'Rep Party Support?',\n",
       "       'Trump Endorsed?', 'Bannon Endorsed?', 'Great America Endorsed?',\n",
       "       'NRA Endorsed?', 'Right to Life Endorsed?',\n",
       "       'Susan B. Anthony Endorsed?', 'Club for Growth Endorsed?',\n",
       "       'Koch Support?', 'House Freedom Support?', 'Tea Party Endorsed?',\n",
       "       'Main Street Endorsed?', 'Chamber Endorsed?', 'No Labels Support?'],\n",
       "      dtype='object')"
      ]
     },
     "execution_count": 127,
     "metadata": {},
     "output_type": "execute_result"
    }
   ],
   "source": [
    "reps = pd.read_csv('rep_candidates.csv')\n",
    "reps.columns"
   ]
  },
  {
   "cell_type": "code",
   "execution_count": 129,
   "metadata": {},
   "outputs": [
    {
     "data": {
      "text/html": [
       "<div>\n",
       "<style scoped>\n",
       "    .dataframe tbody tr th:only-of-type {\n",
       "        vertical-align: middle;\n",
       "    }\n",
       "\n",
       "    .dataframe tbody tr th {\n",
       "        vertical-align: top;\n",
       "    }\n",
       "\n",
       "    .dataframe thead th {\n",
       "        text-align: right;\n",
       "    }\n",
       "</style>\n",
       "<table border=\"1\" class=\"dataframe\">\n",
       "  <thead>\n",
       "    <tr style=\"text-align: right;\">\n",
       "      <th></th>\n",
       "      <th>Candidate</th>\n",
       "      <th>State</th>\n",
       "      <th>District</th>\n",
       "      <th>Rep Party Support?</th>\n",
       "      <th>Trump Endorsed?</th>\n",
       "      <th>Bannon Endorsed?</th>\n",
       "      <th>Great America Endorsed?</th>\n",
       "      <th>NRA Endorsed?</th>\n",
       "      <th>Right to Life Endorsed?</th>\n",
       "      <th>Susan B. Anthony Endorsed?</th>\n",
       "      <th>Club for Growth Endorsed?</th>\n",
       "      <th>Koch Support?</th>\n",
       "      <th>House Freedom Support?</th>\n",
       "      <th>Tea Party Endorsed?</th>\n",
       "      <th>Main Street Endorsed?</th>\n",
       "      <th>Chamber Endorsed?</th>\n",
       "      <th>No Labels Support?</th>\n",
       "      <th>total</th>\n",
       "    </tr>\n",
       "  </thead>\n",
       "  <tbody>\n",
       "    <tr>\n",
       "      <th>0</th>\n",
       "      <td>Mike Dunleavy</td>\n",
       "      <td>AK</td>\n",
       "      <td>Governor of Alaska</td>\n",
       "      <td>0</td>\n",
       "      <td>0</td>\n",
       "      <td>0</td>\n",
       "      <td>0</td>\n",
       "      <td>0</td>\n",
       "      <td>0</td>\n",
       "      <td>0</td>\n",
       "      <td>0</td>\n",
       "      <td>0</td>\n",
       "      <td>0</td>\n",
       "      <td>0</td>\n",
       "      <td>0</td>\n",
       "      <td>0</td>\n",
       "      <td>0</td>\n",
       "      <td>0</td>\n",
       "    </tr>\n",
       "    <tr>\n",
       "      <th>1</th>\n",
       "      <td>Michael Sheldon</td>\n",
       "      <td>AK</td>\n",
       "      <td>Governor of Alaska</td>\n",
       "      <td>0</td>\n",
       "      <td>0</td>\n",
       "      <td>0</td>\n",
       "      <td>0</td>\n",
       "      <td>0</td>\n",
       "      <td>0</td>\n",
       "      <td>0</td>\n",
       "      <td>0</td>\n",
       "      <td>0</td>\n",
       "      <td>0</td>\n",
       "      <td>0</td>\n",
       "      <td>0</td>\n",
       "      <td>0</td>\n",
       "      <td>0</td>\n",
       "      <td>0</td>\n",
       "    </tr>\n",
       "    <tr>\n",
       "      <th>2</th>\n",
       "      <td>Mead Treadwell</td>\n",
       "      <td>AK</td>\n",
       "      <td>Governor of Alaska</td>\n",
       "      <td>0</td>\n",
       "      <td>0</td>\n",
       "      <td>0</td>\n",
       "      <td>0</td>\n",
       "      <td>0</td>\n",
       "      <td>0</td>\n",
       "      <td>0</td>\n",
       "      <td>0</td>\n",
       "      <td>0</td>\n",
       "      <td>0</td>\n",
       "      <td>0</td>\n",
       "      <td>0</td>\n",
       "      <td>0</td>\n",
       "      <td>0</td>\n",
       "      <td>0</td>\n",
       "    </tr>\n",
       "    <tr>\n",
       "      <th>3</th>\n",
       "      <td>Darin Colbry</td>\n",
       "      <td>AK</td>\n",
       "      <td>Governor of Alaska</td>\n",
       "      <td>0</td>\n",
       "      <td>0</td>\n",
       "      <td>0</td>\n",
       "      <td>0</td>\n",
       "      <td>0</td>\n",
       "      <td>0</td>\n",
       "      <td>0</td>\n",
       "      <td>0</td>\n",
       "      <td>0</td>\n",
       "      <td>0</td>\n",
       "      <td>0</td>\n",
       "      <td>0</td>\n",
       "      <td>0</td>\n",
       "      <td>0</td>\n",
       "      <td>0</td>\n",
       "    </tr>\n",
       "    <tr>\n",
       "      <th>4</th>\n",
       "      <td>Thomas Gordon</td>\n",
       "      <td>AK</td>\n",
       "      <td>Governor of Alaska</td>\n",
       "      <td>0</td>\n",
       "      <td>0</td>\n",
       "      <td>0</td>\n",
       "      <td>0</td>\n",
       "      <td>0</td>\n",
       "      <td>0</td>\n",
       "      <td>0</td>\n",
       "      <td>0</td>\n",
       "      <td>0</td>\n",
       "      <td>0</td>\n",
       "      <td>0</td>\n",
       "      <td>0</td>\n",
       "      <td>0</td>\n",
       "      <td>0</td>\n",
       "      <td>0</td>\n",
       "    </tr>\n",
       "  </tbody>\n",
       "</table>\n",
       "</div>"
      ],
      "text/plain": [
       "         Candidate State            District  Rep Party Support?  \\\n",
       "0    Mike Dunleavy    AK  Governor of Alaska                   0   \n",
       "1  Michael Sheldon    AK  Governor of Alaska                   0   \n",
       "2   Mead Treadwell    AK  Governor of Alaska                   0   \n",
       "3     Darin Colbry    AK  Governor of Alaska                   0   \n",
       "4    Thomas Gordon    AK  Governor of Alaska                   0   \n",
       "\n",
       "   Trump Endorsed?  Bannon Endorsed?  Great America Endorsed?  NRA Endorsed?  \\\n",
       "0                0                 0                        0              0   \n",
       "1                0                 0                        0              0   \n",
       "2                0                 0                        0              0   \n",
       "3                0                 0                        0              0   \n",
       "4                0                 0                        0              0   \n",
       "\n",
       "   Right to Life Endorsed?  Susan B. Anthony Endorsed?  \\\n",
       "0                        0                           0   \n",
       "1                        0                           0   \n",
       "2                        0                           0   \n",
       "3                        0                           0   \n",
       "4                        0                           0   \n",
       "\n",
       "   Club for Growth Endorsed?  Koch Support?  House Freedom Support?  \\\n",
       "0                          0              0                       0   \n",
       "1                          0              0                       0   \n",
       "2                          0              0                       0   \n",
       "3                          0              0                       0   \n",
       "4                          0              0                       0   \n",
       "\n",
       "   Tea Party Endorsed?  Main Street Endorsed?  Chamber Endorsed?  \\\n",
       "0                    0                      0                  0   \n",
       "1                    0                      0                  0   \n",
       "2                    0                      0                  0   \n",
       "3                    0                      0                  0   \n",
       "4                    0                      0                  0   \n",
       "\n",
       "   No Labels Support?  total  \n",
       "0                   0      0  \n",
       "1                   0      0  \n",
       "2                   0      0  \n",
       "3                   0      0  \n",
       "4                   0      0  "
      ]
     },
     "execution_count": 129,
     "metadata": {},
     "output_type": "execute_result"
    }
   ],
   "source": [
    "endorsement_cols = ['Rep Party Support?',\n",
    "       'Trump Endorsed?', 'Bannon Endorsed?', 'Great America Endorsed?',\n",
    "       'NRA Endorsed?', 'Right to Life Endorsed?',\n",
    "       'Susan B. Anthony Endorsed?', 'Club for Growth Endorsed?',\n",
    "       'Koch Support?', 'House Freedom Support?', 'Tea Party Endorsed?',\n",
    "       'Main Street Endorsed?', 'Chamber Endorsed?', 'No Labels Support?']\n",
    "\n",
    "rep_endorse = reps[['Candidate', 'State', 'District'] + endorsement_cols].fillna(0).replace({'No': 0, 'Yes': 1})\n",
    "rep_endorse['total'] = rep_endorse[endorsement_cols].sum(axis=1)\n",
    "rep_endorse.head()"
   ]
  },
  {
   "cell_type": "code",
   "execution_count": 134,
   "metadata": {},
   "outputs": [
    {
     "data": {
      "text/html": [
       "<div>\n",
       "<style scoped>\n",
       "    .dataframe tbody tr th:only-of-type {\n",
       "        vertical-align: middle;\n",
       "    }\n",
       "\n",
       "    .dataframe tbody tr th {\n",
       "        vertical-align: top;\n",
       "    }\n",
       "\n",
       "    .dataframe thead th {\n",
       "        text-align: right;\n",
       "    }\n",
       "</style>\n",
       "<table border=\"1\" class=\"dataframe\">\n",
       "  <thead>\n",
       "    <tr style=\"text-align: right;\">\n",
       "      <th></th>\n",
       "      <th>Candidate</th>\n",
       "      <th>State</th>\n",
       "      <th>District</th>\n",
       "      <th>Rep Party Support?</th>\n",
       "      <th>Trump Endorsed?</th>\n",
       "      <th>Bannon Endorsed?</th>\n",
       "      <th>Great America Endorsed?</th>\n",
       "      <th>NRA Endorsed?</th>\n",
       "      <th>Right to Life Endorsed?</th>\n",
       "      <th>Susan B. Anthony Endorsed?</th>\n",
       "      <th>Club for Growth Endorsed?</th>\n",
       "      <th>Koch Support?</th>\n",
       "      <th>House Freedom Support?</th>\n",
       "      <th>Tea Party Endorsed?</th>\n",
       "      <th>Main Street Endorsed?</th>\n",
       "      <th>Chamber Endorsed?</th>\n",
       "      <th>No Labels Support?</th>\n",
       "      <th>total</th>\n",
       "    </tr>\n",
       "  </thead>\n",
       "  <tbody>\n",
       "    <tr>\n",
       "      <th>374</th>\n",
       "      <td>Josh Hawley</td>\n",
       "      <td>MO</td>\n",
       "      <td>U.S. Senate Missouri</td>\n",
       "      <td>0</td>\n",
       "      <td>1</td>\n",
       "      <td>1</td>\n",
       "      <td>1</td>\n",
       "      <td>0</td>\n",
       "      <td>1</td>\n",
       "      <td>0</td>\n",
       "      <td>1</td>\n",
       "      <td>1</td>\n",
       "      <td>0</td>\n",
       "      <td>0</td>\n",
       "      <td>0</td>\n",
       "      <td>0</td>\n",
       "      <td>0</td>\n",
       "      <td>6</td>\n",
       "    </tr>\n",
       "    <tr>\n",
       "      <th>633</th>\n",
       "      <td>Marsha Blackburn</td>\n",
       "      <td>TN</td>\n",
       "      <td>U.S. Senate Tennessee</td>\n",
       "      <td>0</td>\n",
       "      <td>1</td>\n",
       "      <td>1</td>\n",
       "      <td>1</td>\n",
       "      <td>0</td>\n",
       "      <td>0</td>\n",
       "      <td>1</td>\n",
       "      <td>1</td>\n",
       "      <td>1</td>\n",
       "      <td>0</td>\n",
       "      <td>0</td>\n",
       "      <td>0</td>\n",
       "      <td>0</td>\n",
       "      <td>0</td>\n",
       "      <td>6</td>\n",
       "    </tr>\n",
       "  </tbody>\n",
       "</table>\n",
       "</div>"
      ],
      "text/plain": [
       "            Candidate State               District  Rep Party Support?  \\\n",
       "374       Josh Hawley    MO   U.S. Senate Missouri                   0   \n",
       "633  Marsha Blackburn    TN  U.S. Senate Tennessee                   0   \n",
       "\n",
       "     Trump Endorsed?  Bannon Endorsed?  Great America Endorsed?  \\\n",
       "374                1                 1                        1   \n",
       "633                1                 1                        1   \n",
       "\n",
       "     NRA Endorsed?  Right to Life Endorsed?  Susan B. Anthony Endorsed?  \\\n",
       "374              0                        1                           0   \n",
       "633              0                        0                           1   \n",
       "\n",
       "     Club for Growth Endorsed?  Koch Support?  House Freedom Support?  \\\n",
       "374                          1              1                       0   \n",
       "633                          1              1                       0   \n",
       "\n",
       "     Tea Party Endorsed?  Main Street Endorsed?  Chamber Endorsed?  \\\n",
       "374                    0                      0                  0   \n",
       "633                    0                      0                  0   \n",
       "\n",
       "     No Labels Support?  total  \n",
       "374                   0      6  \n",
       "633                   0      6  "
      ]
     },
     "execution_count": 134,
     "metadata": {},
     "output_type": "execute_result"
    }
   ],
   "source": [
    "rep_endorse[rep_endorse['total'] == 6]"
   ]
  },
  {
   "cell_type": "code",
   "execution_count": 141,
   "metadata": {},
   "outputs": [
    {
     "data": {
      "image/png": "[encoded data removed]",
      "text/plain": [
       "<Figure size 576x432 with 1 Axes>"
      ]
     },
     "metadata": {
      "needs_background": "light"
     },
     "output_type": "display_data"
    }
   ],
   "source": [
    "plt.figure(figsize=(8,6))\n",
    "rep_endorse['total'].value_counts().plot(kind = 'bar')\n",
    "plt.title('Number of Endorsements Received by Rep. Candidates')\n",
    "plt.xlabel('Number of Endorsements Given')\n",
    "plt.savefig('rep_endorse_count')\n",
    "plt.show()"
   ]
  },
  {
   "cell_type": "code",
   "execution_count": 161,
   "metadata": {},
   "outputs": [
    {
     "data": {
      "image/png": "[encoded data removed]",
      "text/plain": [
       "<Figure size 720x504 with 1 Axes>"
      ]
     },
     "metadata": {
      "needs_background": "light"
     },
     "output_type": "display_data"
    }
   ],
   "source": [
    "plt.figure(figsize=(10,7))\n",
    "rep_endorse.groupby('District').agg('sum')['total'] \\\n",
    "    .sort_values(ascending=False)[:10].plot(kind = 'barh')\n",
    "plt.tight_layout()\n",
    "\n",
    "plt.title('Top 10 Districts with most Republican endorsements')\n",
    "plt.xlabel('Number of Endorsements Given')\n",
    "# plt.savefig('rep_endorse_dist')\n",
    "plt.show()"
   ]
  },
  {
   "cell_type": "code",
   "execution_count": 143,
   "metadata": {
    "scrolled": true
   },
   "outputs": [
    {
     "data": {
      "image/png": "[encoded data removed]",
      "text/plain": [
       "<Figure size 576x432 with 1 Axes>"
      ]
     },
     "metadata": {
      "needs_background": "light"
     },
     "output_type": "display_data"
    }
   ],
   "source": [
    "plt.figure(figsize=(8,6))\n",
    "rep_endorse.groupby(['State', 'District']).agg('sum')['total'].reset_index() \\\n",
    "    .groupby('State').agg('mean')['total'].sort_values(ascending=False).plot(kind = 'bar')\n",
    "\n",
    "plt.title('Average Rep. Endorsements per Election Within Each State')\n",
    "plt.xlabel('Number of Endorsements Given')\n",
    "plt.savefig('rep_endorse_state')\n",
    "plt.show()"
   ]
  },
  {
   "cell_type": "code",
   "execution_count": null,
   "metadata": {},
   "outputs": [],
   "source": []
  }
 ],
 "metadata": {
  "kernelspec": {
   "display_name": "Python 3",
   "language": "python",
   "name": "python3"
  },
  "language_info": {
   "codemirror_mode": {
    "name": "ipython",
    "version": 3
   },
   "file_extension": ".py",
   "mimetype": "text/x-python",
   "name": "python",
   "nbconvert_exporter": "python",
   "pygments_lexer": "ipython3",
   "version": "3.8.5"
  }
 },
 "nbformat": 4,
 "nbformat_minor": 2
}
