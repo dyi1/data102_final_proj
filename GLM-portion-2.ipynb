{
 "cells": [
  {
   "cell_type": "code",
   "execution_count": 1,
   "metadata": {},
   "outputs": [],
   "source": [
    "import numpy as np\n",
    "import pandas as pd\n",
    "import matplotlib.pyplot as plt\n",
    "import statsmodels.api as sm\n",
    "\n",
    "import sklearn\n",
    "from sklearn.linear_model import LinearRegression\n",
    "from sklearn import tree\n",
    "import graphviz "
   ]
  },
  {
   "cell_type": "markdown",
   "metadata": {},
   "source": [
    "Predicting presidential political endorsements based on political views/demographics/local endorsements"
   ]
  },
  {
   "cell_type": "markdown",
   "metadata": {},
   "source": [
    "# Data cleaning"
   ]
  },
  {
   "cell_type": "code",
   "execution_count": 2,
   "metadata": {},
   "outputs": [],
   "source": [
    "dem = pd.read_csv('dem_candidates.csv')\n",
    "rep = pd.read_csv('rep_candidates.csv')"
   ]
  },
  {
   "cell_type": "code",
   "execution_count": 3,
   "metadata": {},
   "outputs": [
    {
     "data": {
      "text/plain": [
       "Index(['Candidate', 'State', 'District', 'Office Type', 'Race Type',\n",
       "       'Race Primary Election Date', 'Primary Status', 'Primary Runoff Status',\n",
       "       'General Status', 'Primary %', 'Won Primary', 'Rep Party Support?',\n",
       "       'Trump Endorsed?', 'Bannon Endorsed?', 'Great America Endorsed?',\n",
       "       'NRA Endorsed?', 'Right to Life Endorsed?',\n",
       "       'Susan B. Anthony Endorsed?', 'Club for Growth Endorsed?',\n",
       "       'Koch Support?', 'House Freedom Support?', 'Tea Party Endorsed?',\n",
       "       'Main Street Endorsed?', 'Chamber Endorsed?', 'No Labels Support?'],\n",
       "      dtype='object')"
      ]
     },
     "execution_count": 3,
     "metadata": {},
     "output_type": "execute_result"
    }
   ],
   "source": [
    "rep.columns"
   ]
  },
  {
   "cell_type": "code",
   "execution_count": 4,
   "metadata": {},
   "outputs": [],
   "source": [
    "rep_important = rep[['Rep Party Support?',\n",
    "       'Bannon Endorsed?', 'Great America Endorsed?',\n",
    "       'NRA Endorsed?', 'Right to Life Endorsed?',\n",
    "       'Susan B. Anthony Endorsed?', 'Club for Growth Endorsed?',\n",
    "       'Koch Support?', 'House Freedom Support?', 'Tea Party Endorsed?',\n",
    "       'Main Street Endorsed?', 'Chamber Endorsed?', 'No Labels Support?']].fillna(0).replace({'No': -1, 'Yes': 1})\n",
    "rep_pred = rep[['Trump Endorsed?']].fillna(0).replace({'No': -1, 'Yes': 1})"
   ]
  },
  {
   "cell_type": "code",
   "execution_count": 5,
   "metadata": {},
   "outputs": [
    {
     "data": {
      "text/plain": [
       "{-1, 0, 1}"
      ]
     },
     "execution_count": 5,
     "metadata": {},
     "output_type": "execute_result"
    }
   ],
   "source": [
    "set(rep_important.iloc[:, 0])"
   ]
  },
  {
   "cell_type": "code",
   "execution_count": 6,
   "metadata": {},
   "outputs": [
    {
     "data": {
      "text/plain": [
       "Index(['Candidate', 'State', 'District', 'Office Type', 'Race Type',\n",
       "       'Race Primary Election Date', 'Primary Status', 'Primary Runoff Status',\n",
       "       'General Status', 'Partisan Lean', 'Primary %', 'Won Primary', 'Race',\n",
       "       'Veteran?', 'LGBTQ?', 'Elected Official?', 'Self-Funder?', 'STEM?',\n",
       "       'Obama Alum?', 'Party Support?', 'Emily Endorsed?',\n",
       "       'Guns Sense Candidate?', 'Biden Endorsed?', 'Warren Endorsed? ',\n",
       "       'Sanders Endorsed?', 'Our Revolution Endorsed?',\n",
       "       'Justice Dems Endorsed?', 'PCCC Endorsed?', 'Indivisible Endorsed?',\n",
       "       'WFP Endorsed?', 'VoteVets Endorsed?', 'No Labels Support?'],\n",
       "      dtype='object')"
      ]
     },
     "execution_count": 6,
     "metadata": {},
     "output_type": "execute_result"
    }
   ],
   "source": [
    "dem.columns"
   ]
  },
  {
   "cell_type": "code",
   "execution_count": 7,
   "metadata": {},
   "outputs": [],
   "source": [
    "# Filter out relevant columns in dems dataset\n",
    "dem_important = dem[['Biden Endorsed?', 'Warren Endorsed? ',\n",
    "       'Sanders Endorsed?', 'Our Revolution Endorsed?',\n",
    "       'Justice Dems Endorsed?', 'PCCC Endorsed?', 'Indivisible Endorsed?',\n",
    "       'WFP Endorsed?', 'VoteVets Endorsed?', 'Emily Endorsed?']].fillna(0).replace({'No': -1, 'Yes': 1})\n",
    "dem_pred = dem[['Biden Endorsed?']].fillna(0).replace({'No': -1, 'Yes': 1})\n",
    "\n"
   ]
  },
  {
   "cell_type": "code",
   "execution_count": 8,
   "metadata": {},
   "outputs": [
    {
     "data": {
      "text/plain": [
       "{-1, 0, 1}"
      ]
     },
     "execution_count": 8,
     "metadata": {},
     "output_type": "execute_result"
    }
   ],
   "source": [
    "# set(dem_endorse.iloc[:, 0])\n",
    "set(dem_pred.iloc[:, 0])"
   ]
  },
  {
   "cell_type": "code",
   "execution_count": 9,
   "metadata": {},
   "outputs": [],
   "source": [
    "# dem_important[dem_important['Biden Endorsed?'] == -1]"
   ]
  },
  {
   "cell_type": "markdown",
   "metadata": {},
   "source": [
    "### Dems EDA "
   ]
  },
  {
   "cell_type": "code",
   "execution_count": 10,
   "metadata": {},
   "outputs": [
    {
     "data": {
      "text/plain": [
       "Biden Endorsed?  Warren Endorsed?   Sanders Endorsed?\n",
       " 0                0                  0                   717\n",
       "-1                0                  0                    29\n",
       " 0               -1                  0                    21\n",
       "                  0                 -1                    20\n",
       " 1                0                  0                    10\n",
       " 0                0                  1                     9\n",
       "                  1                  0                     5\n",
       "dtype: int64"
      ]
     },
     "execution_count": 10,
     "metadata": {},
     "output_type": "execute_result"
    }
   ],
   "source": [
    "# EDA\n",
    "dem_important[['Biden Endorsed?', 'Warren Endorsed? ','Sanders Endorsed?']].value_counts()"
   ]
  },
  {
   "cell_type": "code",
   "execution_count": 11,
   "metadata": {},
   "outputs": [
    {
     "data": {
      "text/plain": [
       "Biden Endorsed?  Our Revolution Endorsed?  Justice Dems Endorsed?\n",
       " 0                0                         0                        399\n",
       "                 -1                         0                        133\n",
       "                                           -1                         89\n",
       "                  1                         0                         51\n",
       "                  0                        -1                         48\n",
       "                  1                         1                         26\n",
       "                  0                         1                         17\n",
       "-1                0                         0                         16\n",
       " 1                0                         0                          7\n",
       "-1               -1                        -1                          5\n",
       " 0                1                        -1                          5\n",
       "-1               -1                         0                          4\n",
       " 0               -1                         1                          4\n",
       "-1                1                         1                          2\n",
       " 1               -1                        -1                          2\n",
       "                                            0                          1\n",
       "-1                1                         0                          1\n",
       "                  0                         1                          1\n",
       "dtype: int64"
      ]
     },
     "execution_count": 11,
     "metadata": {},
     "output_type": "execute_result"
    }
   ],
   "source": [
    "dem_important[['Biden Endorsed?', 'Our Revolution Endorsed?', 'Justice Dems Endorsed?']].value_counts()"
   ]
  },
  {
   "cell_type": "code",
   "execution_count": 12,
   "metadata": {},
   "outputs": [],
   "source": [
    "# dem_important[dem_important['Warren Endorsed? '] == 1]"
   ]
  },
  {
   "cell_type": "code",
   "execution_count": 13,
   "metadata": {},
   "outputs": [],
   "source": [
    "# dem_important[dem_important['Biden Endorsed?'] == 1]"
   ]
  },
  {
   "cell_type": "code",
   "execution_count": 14,
   "metadata": {},
   "outputs": [],
   "source": [
    "# dem_endorse[dem_endorse['Sanders Endorsed?'] == 1]"
   ]
  },
  {
   "cell_type": "code",
   "execution_count": 15,
   "metadata": {},
   "outputs": [],
   "source": [
    "# dem_important[dem_important['Our Revolution Endorsed?'] == -1]"
   ]
  },
  {
   "cell_type": "markdown",
   "metadata": {},
   "source": [
    "# Decision trees"
   ]
  },
  {
   "cell_type": "code",
   "execution_count": 16,
   "metadata": {},
   "outputs": [
    {
     "data": {
      "text/plain": [
       "Index(['Candidate', 'State', 'District', 'Office Type', 'Race Type',\n",
       "       'Race Primary Election Date', 'Primary Status', 'Primary Runoff Status',\n",
       "       'General Status', 'Partisan Lean', 'Primary %', 'Won Primary', 'Race',\n",
       "       'Veteran?', 'LGBTQ?', 'Elected Official?', 'Self-Funder?', 'STEM?',\n",
       "       'Obama Alum?', 'Party Support?', 'Emily Endorsed?',\n",
       "       'Guns Sense Candidate?', 'Biden Endorsed?', 'Warren Endorsed? ',\n",
       "       'Sanders Endorsed?', 'Our Revolution Endorsed?',\n",
       "       'Justice Dems Endorsed?', 'PCCC Endorsed?', 'Indivisible Endorsed?',\n",
       "       'WFP Endorsed?', 'VoteVets Endorsed?', 'No Labels Support?'],\n",
       "      dtype='object')"
      ]
     },
     "execution_count": 16,
     "metadata": {},
     "output_type": "execute_result"
    }
   ],
   "source": [
    "dem.columns"
   ]
  },
  {
   "cell_type": "code",
   "execution_count": 17,
   "metadata": {},
   "outputs": [],
   "source": [
    "dem_endorse = dem[['Party Support?', 'Our Revolution Endorsed?','No Labels Support?',\n",
    "       'Justice Dems Endorsed?', 'PCCC Endorsed?', 'Indivisible Endorsed?',\n",
    "       'WFP Endorsed?', 'VoteVets Endorsed?', 'Emily Endorsed?', 'Guns Sense Candidate?']].fillna(0).replace({'No': -1, 'Yes': 1})"
   ]
  },
  {
   "cell_type": "code",
   "execution_count": 42,
   "metadata": {},
   "outputs": [],
   "source": [
    "# Function written to run the decision tree\n",
    "def runtree(featdf, preddf, maxdepth=2, random=0):\n",
    "    clf = tree.DecisionTreeClassifier(random_state=random, max_depth=maxdepth)\n",
    "    clf = clf.fit(featdf, preddf)\n",
    "#     tree.plot_tree(clf)\n",
    "    \n",
    "    dot_data = tree.export_graphviz(clf, out_file=None) \n",
    "    dot_data = tree.export_graphviz(clf, out_file=None, \n",
    "                  feature_names=featdf.columns,  \n",
    "                    filled=True, rounded=True,  \n",
    "                      special_characters=True)  \n",
    "    graph = graphviz.Source(dot_data) \n",
    "    graph.format = 'png'\n",
    "    graph.render('dtree_render',view=True)\n",
    "\n",
    "    return graph"
   ]
  },
  {
   "cell_type": "code",
   "execution_count": 43,
   "metadata": {},
   "outputs": [
    {
     "data": {
      "image/svg+xml": [
       "<?xml version=\"1.0\" encoding=\"UTF-8\" standalone=\"no\"?>\r\n",
       "<!DOCTYPE svg PUBLIC \"-//W3C//DTD SVG 1.1//EN\"\r\n",
       " \"http://www.w3.org/Graphics/SVG/1.1/DTD/svg11.dtd\">\r\n",
       "<!-- Generated by graphviz version 2.38.0 (20140413.2041)\r\n",
       " -->\r\n",
       "<!-- Title: Tree Pages: 1 -->\r\n",
       "<svg width=\"878pt\" height=\"373pt\"\r\n",
       " viewBox=\"0.00 0.00 878.00 373.00\" xmlns=\"http://www.w3.org/2000/svg\" xmlns:xlink=\"http://www.w3.org/1999/xlink\">\r\n",
       "<g id=\"graph0\" class=\"graph\" transform=\"scale(1 1) rotate(0) translate(4 369)\">\r\n",
       "<title>Tree</title>\r\n",
       "<polygon fill=\"white\" stroke=\"none\" points=\"-4,4 -4,-369 874,-369 874,4 -4,4\"/>\r\n",
       "<!-- 0 -->\r\n",
       "<g id=\"node1\" class=\"node\"><title>0</title>\r\n",
       "<path fill=\"#43e687\" stroke=\"black\" d=\"M484,-365C484,-365 357,-365 357,-365 351,-365 345,-359 345,-353 345,-353 345,-309 345,-309 345,-303 351,-297 357,-297 357,-297 484,-297 484,-297 490,-297 496,-303 496,-309 496,-309 496,-353 496,-353 496,-359 490,-365 484,-365\"/>\r\n",
       "<text text-anchor=\"start\" x=\"353\" y=\"-349.8\" font-family=\"Helvetica,sans-Serif\" font-size=\"14.00\">Party Support? ≤ &#45;0.5</text>\r\n",
       "<text text-anchor=\"start\" x=\"383\" y=\"-334.8\" font-family=\"Helvetica,sans-Serif\" font-size=\"14.00\">gini = 0.092</text>\r\n",
       "<text text-anchor=\"start\" x=\"373\" y=\"-319.8\" font-family=\"Helvetica,sans-Serif\" font-size=\"14.00\">samples = 811</text>\r\n",
       "<text text-anchor=\"start\" x=\"355.5\" y=\"-304.8\" font-family=\"Helvetica,sans-Serif\" font-size=\"14.00\">value = [29, 772, 10]</text>\r\n",
       "</g>\r\n",
       "<!-- 1 -->\r\n",
       "<g id=\"node2\" class=\"node\"><title>1</title>\r\n",
       "<path fill=\"#80eeae\" stroke=\"black\" d=\"M403,-261C403,-261 266,-261 266,-261 260,-261 254,-255 254,-249 254,-249 254,-205 254,-205 254,-199 260,-193 266,-193 266,-193 403,-193 403,-193 409,-193 415,-199 415,-205 415,-205 415,-249 415,-249 415,-255 409,-261 403,-261\"/>\r\n",
       "<text text-anchor=\"start\" x=\"262\" y=\"-245.8\" font-family=\"Helvetica,sans-Serif\" font-size=\"14.00\">Emily Endorsed? ≤ 0.5</text>\r\n",
       "<text text-anchor=\"start\" x=\"297\" y=\"-230.8\" font-family=\"Helvetica,sans-Serif\" font-size=\"14.00\">gini = 0.387</text>\r\n",
       "<text text-anchor=\"start\" x=\"291\" y=\"-215.8\" font-family=\"Helvetica,sans-Serif\" font-size=\"14.00\">samples = 99</text>\r\n",
       "<text text-anchor=\"start\" x=\"278\" y=\"-200.8\" font-family=\"Helvetica,sans-Serif\" font-size=\"14.00\">value = [26, 73, 0]</text>\r\n",
       "</g>\r\n",
       "<!-- 0&#45;&gt;1 -->\r\n",
       "<g id=\"edge1\" class=\"edge\"><title>0&#45;&gt;1</title>\r\n",
       "<path fill=\"none\" stroke=\"black\" d=\"M392.578,-296.884C385.068,-287.976 376.855,-278.235 369.032,-268.957\"/>\r\n",
       "<polygon fill=\"black\" stroke=\"black\" points=\"371.698,-266.689 362.576,-261.299 366.346,-271.201 371.698,-266.689\"/>\r\n",
       "<text text-anchor=\"middle\" x=\"360.456\" y=\"-282.509\" font-family=\"Helvetica,sans-Serif\" font-size=\"14.00\">True</text>\r\n",
       "</g>\r\n",
       "<!-- 6 -->\r\n",
       "<g id=\"node7\" class=\"node\"><title>6</title>\r\n",
       "<path fill=\"#3de583\" stroke=\"black\" d=\"M567.5,-261C567.5,-261 445.5,-261 445.5,-261 439.5,-261 433.5,-255 433.5,-249 433.5,-249 433.5,-205 433.5,-205 433.5,-199 439.5,-193 445.5,-193 445.5,-193 567.5,-193 567.5,-193 573.5,-193 579.5,-199 579.5,-205 579.5,-205 579.5,-249 579.5,-249 579.5,-255 573.5,-261 567.5,-261\"/>\r\n",
       "<text text-anchor=\"start\" x=\"441.5\" y=\"-245.8\" font-family=\"Helvetica,sans-Serif\" font-size=\"14.00\">Party Support? ≤ 0.5</text>\r\n",
       "<text text-anchor=\"start\" x=\"469\" y=\"-230.8\" font-family=\"Helvetica,sans-Serif\" font-size=\"14.00\">gini = 0.036</text>\r\n",
       "<text text-anchor=\"start\" x=\"459\" y=\"-215.8\" font-family=\"Helvetica,sans-Serif\" font-size=\"14.00\">samples = 712</text>\r\n",
       "<text text-anchor=\"start\" x=\"446\" y=\"-200.8\" font-family=\"Helvetica,sans-Serif\" font-size=\"14.00\">value = [3, 699, 10]</text>\r\n",
       "</g>\r\n",
       "<!-- 0&#45;&gt;6 -->\r\n",
       "<g id=\"edge6\" class=\"edge\"><title>0&#45;&gt;6</title>\r\n",
       "<path fill=\"none\" stroke=\"black\" d=\"M448.422,-296.884C455.932,-287.976 464.145,-278.235 471.968,-268.957\"/>\r\n",
       "<polygon fill=\"black\" stroke=\"black\" points=\"474.654,-271.201 478.424,-261.299 469.302,-266.689 474.654,-271.201\"/>\r\n",
       "<text text-anchor=\"middle\" x=\"480.544\" y=\"-282.509\" font-family=\"Helvetica,sans-Serif\" font-size=\"14.00\">False</text>\r\n",
       "</g>\r\n",
       "<!-- 2 -->\r\n",
       "<g id=\"node3\" class=\"node\"><title>2</title>\r\n",
       "<path fill=\"#86efb2\" stroke=\"black\" d=\"M255.5,-157C255.5,-157 115.5,-157 115.5,-157 109.5,-157 103.5,-151 103.5,-145 103.5,-145 103.5,-101 103.5,-101 103.5,-95 109.5,-89 115.5,-89 115.5,-89 255.5,-89 255.5,-89 261.5,-89 267.5,-95 267.5,-101 267.5,-101 267.5,-145 267.5,-145 267.5,-151 261.5,-157 255.5,-157\"/>\r\n",
       "<text text-anchor=\"start\" x=\"111.5\" y=\"-141.8\" font-family=\"Helvetica,sans-Serif\" font-size=\"14.00\">WFP Endorsed? ≤ &#45;0.5</text>\r\n",
       "<text text-anchor=\"start\" x=\"148\" y=\"-126.8\" font-family=\"Helvetica,sans-Serif\" font-size=\"14.00\">gini = 0.403</text>\r\n",
       "<text text-anchor=\"start\" x=\"142\" y=\"-111.8\" font-family=\"Helvetica,sans-Serif\" font-size=\"14.00\">samples = 93</text>\r\n",
       "<text text-anchor=\"start\" x=\"129\" y=\"-96.8\" font-family=\"Helvetica,sans-Serif\" font-size=\"14.00\">value = [26, 67, 0]</text>\r\n",
       "</g>\r\n",
       "<!-- 1&#45;&gt;2 -->\r\n",
       "<g id=\"edge2\" class=\"edge\"><title>1&#45;&gt;2</title>\r\n",
       "<path fill=\"none\" stroke=\"black\" d=\"M286.124,-192.884C272.13,-183.304 256.729,-172.761 242.273,-162.864\"/>\r\n",
       "<polygon fill=\"black\" stroke=\"black\" points=\"244.117,-159.885 233.888,-157.125 240.163,-165.662 244.117,-159.885\"/>\r\n",
       "</g>\r\n",
       "<!-- 5 -->\r\n",
       "<g id=\"node6\" class=\"node\"><title>5</title>\r\n",
       "<path fill=\"#39e581\" stroke=\"black\" d=\"M387,-149.5C387,-149.5 298,-149.5 298,-149.5 292,-149.5 286,-143.5 286,-137.5 286,-137.5 286,-108.5 286,-108.5 286,-102.5 292,-96.5 298,-96.5 298,-96.5 387,-96.5 387,-96.5 393,-96.5 399,-102.5 399,-108.5 399,-108.5 399,-137.5 399,-137.5 399,-143.5 393,-149.5 387,-149.5\"/>\r\n",
       "<text text-anchor=\"start\" x=\"313.5\" y=\"-134.3\" font-family=\"Helvetica,sans-Serif\" font-size=\"14.00\">gini = 0.0</text>\r\n",
       "<text text-anchor=\"start\" x=\"303\" y=\"-119.3\" font-family=\"Helvetica,sans-Serif\" font-size=\"14.00\">samples = 6</text>\r\n",
       "<text text-anchor=\"start\" x=\"294\" y=\"-104.3\" font-family=\"Helvetica,sans-Serif\" font-size=\"14.00\">value = [0, 6, 0]</text>\r\n",
       "</g>\r\n",
       "<!-- 1&#45;&gt;5 -->\r\n",
       "<g id=\"edge5\" class=\"edge\"><title>1&#45;&gt;5</title>\r\n",
       "<path fill=\"none\" stroke=\"black\" d=\"M337.097,-192.884C337.934,-182.216 338.865,-170.352 339.714,-159.519\"/>\r\n",
       "<polygon fill=\"black\" stroke=\"black\" points=\"343.206,-159.763 340.498,-149.52 336.227,-159.216 343.206,-159.763\"/>\r\n",
       "</g>\r\n",
       "<!-- 3 -->\r\n",
       "<g id=\"node4\" class=\"node\"><title>3</title>\r\n",
       "<path fill=\"#39e581\" stroke=\"black\" d=\"M101,-53C101,-53 12,-53 12,-53 6,-53 0,-47 0,-41 0,-41 0,-12 0,-12 0,-6 6,-0 12,-0 12,-0 101,-0 101,-0 107,-0 113,-6 113,-12 113,-12 113,-41 113,-41 113,-47 107,-53 101,-53\"/>\r\n",
       "<text text-anchor=\"start\" x=\"27.5\" y=\"-37.8\" font-family=\"Helvetica,sans-Serif\" font-size=\"14.00\">gini = 0.0</text>\r\n",
       "<text text-anchor=\"start\" x=\"17\" y=\"-22.8\" font-family=\"Helvetica,sans-Serif\" font-size=\"14.00\">samples = 5</text>\r\n",
       "<text text-anchor=\"start\" x=\"8\" y=\"-7.8\" font-family=\"Helvetica,sans-Serif\" font-size=\"14.00\">value = [0, 5, 0]</text>\r\n",
       "</g>\r\n",
       "<!-- 2&#45;&gt;3 -->\r\n",
       "<g id=\"edge3\" class=\"edge\"><title>2&#45;&gt;3</title>\r\n",
       "<path fill=\"none\" stroke=\"black\" d=\"M140.382,-88.9485C127.27,-79.3431 112.98,-68.8747 99.9709,-59.345\"/>\r\n",
       "<polygon fill=\"black\" stroke=\"black\" points=\"101.768,-56.3228 91.6326,-53.2367 97.6313,-61.9698 101.768,-56.3228\"/>\r\n",
       "</g>\r\n",
       "<!-- 4 -->\r\n",
       "<g id=\"node5\" class=\"node\"><title>4</title>\r\n",
       "<path fill=\"#8cf0b6\" stroke=\"black\" d=\"M248,-53C248,-53 143,-53 143,-53 137,-53 131,-47 131,-41 131,-41 131,-12 131,-12 131,-6 137,-0 143,-0 143,-0 248,-0 248,-0 254,-0 260,-6 260,-12 260,-12 260,-41 260,-41 260,-47 254,-53 248,-53\"/>\r\n",
       "<text text-anchor=\"start\" x=\"158\" y=\"-37.8\" font-family=\"Helvetica,sans-Serif\" font-size=\"14.00\">gini = 0.416</text>\r\n",
       "<text text-anchor=\"start\" x=\"152\" y=\"-22.8\" font-family=\"Helvetica,sans-Serif\" font-size=\"14.00\">samples = 88</text>\r\n",
       "<text text-anchor=\"start\" x=\"139\" y=\"-7.8\" font-family=\"Helvetica,sans-Serif\" font-size=\"14.00\">value = [26, 62, 0]</text>\r\n",
       "</g>\r\n",
       "<!-- 2&#45;&gt;4 -->\r\n",
       "<g id=\"edge4\" class=\"edge\"><title>2&#45;&gt;4</title>\r\n",
       "<path fill=\"none\" stroke=\"black\" d=\"M188.998,-88.9485C189.878,-80.6238 190.828,-71.6509 191.722,-63.2027\"/>\r\n",
       "<polygon fill=\"black\" stroke=\"black\" points=\"195.205,-63.5495 192.777,-53.2367 188.244,-62.8128 195.205,-63.5495\"/>\r\n",
       "</g>\r\n",
       "<!-- 7 -->\r\n",
       "<g id=\"node8\" class=\"node\"><title>7</title>\r\n",
       "<path fill=\"#3ae582\" stroke=\"black\" d=\"M571,-157C571,-157 434,-157 434,-157 428,-157 422,-151 422,-145 422,-145 422,-101 422,-101 422,-95 428,-89 434,-89 434,-89 571,-89 571,-89 577,-89 583,-95 583,-101 583,-101 583,-145 583,-145 583,-151 577,-157 571,-157\"/>\r\n",
       "<text text-anchor=\"start\" x=\"430\" y=\"-141.8\" font-family=\"Helvetica,sans-Serif\" font-size=\"14.00\">Emily Endorsed? ≤ 0.5</text>\r\n",
       "<text text-anchor=\"start\" x=\"465\" y=\"-126.8\" font-family=\"Helvetica,sans-Serif\" font-size=\"14.00\">gini = 0.015</text>\r\n",
       "<text text-anchor=\"start\" x=\"455\" y=\"-111.8\" font-family=\"Helvetica,sans-Serif\" font-size=\"14.00\">samples = 673</text>\r\n",
       "<text text-anchor=\"start\" x=\"446\" y=\"-96.8\" font-family=\"Helvetica,sans-Serif\" font-size=\"14.00\">value = [3, 668, 2]</text>\r\n",
       "</g>\r\n",
       "<!-- 6&#45;&gt;7 -->\r\n",
       "<g id=\"edge7\" class=\"edge\"><title>6&#45;&gt;7</title>\r\n",
       "<path fill=\"none\" stroke=\"black\" d=\"M505.201,-192.884C504.883,-184.778 504.539,-175.982 504.205,-167.472\"/>\r\n",
       "<polygon fill=\"black\" stroke=\"black\" points=\"507.695,-167.155 503.806,-157.299 500.7,-167.429 507.695,-167.155\"/>\r\n",
       "</g>\r\n",
       "<!-- 10 -->\r\n",
       "<g id=\"node11\" class=\"node\"><title>10</title>\r\n",
       "<path fill=\"#6ceca2\" stroke=\"black\" d=\"M754,-157C754,-157 613,-157 613,-157 607,-157 601,-151 601,-145 601,-145 601,-101 601,-101 601,-95 607,-89 613,-89 613,-89 754,-89 754,-89 760,-89 766,-95 766,-101 766,-101 766,-145 766,-145 766,-151 760,-157 754,-157\"/>\r\n",
       "<text text-anchor=\"start\" x=\"609\" y=\"-141.8\" font-family=\"Helvetica,sans-Serif\" font-size=\"14.00\">Emily Endorsed? ≤ &#45;0.5</text>\r\n",
       "<text text-anchor=\"start\" x=\"646\" y=\"-126.8\" font-family=\"Helvetica,sans-Serif\" font-size=\"14.00\">gini = 0.326</text>\r\n",
       "<text text-anchor=\"start\" x=\"640\" y=\"-111.8\" font-family=\"Helvetica,sans-Serif\" font-size=\"14.00\">samples = 39</text>\r\n",
       "<text text-anchor=\"start\" x=\"631\" y=\"-96.8\" font-family=\"Helvetica,sans-Serif\" font-size=\"14.00\">value = [0, 31, 8]</text>\r\n",
       "</g>\r\n",
       "<!-- 6&#45;&gt;10 -->\r\n",
       "<g id=\"edge10\" class=\"edge\"><title>6&#45;&gt;10</title>\r\n",
       "<path fill=\"none\" stroke=\"black\" d=\"M563.967,-192.884C580.901,-183.125 599.57,-172.366 617.02,-162.31\"/>\r\n",
       "<polygon fill=\"black\" stroke=\"black\" points=\"619.102,-165.15 626.019,-157.125 615.607,-159.085 619.102,-165.15\"/>\r\n",
       "</g>\r\n",
       "<!-- 8 -->\r\n",
       "<g id=\"node9\" class=\"node\"><title>8</title>\r\n",
       "<path fill=\"#3ae582\" stroke=\"black\" d=\"M431,-53C431,-53 326,-53 326,-53 320,-53 314,-47 314,-41 314,-41 314,-12 314,-12 314,-6 320,-0 326,-0 326,-0 431,-0 431,-0 437,-0 443,-6 443,-12 443,-12 443,-41 443,-41 443,-47 437,-53 431,-53\"/>\r\n",
       "<text text-anchor=\"start\" x=\"341\" y=\"-37.8\" font-family=\"Helvetica,sans-Serif\" font-size=\"14.00\">gini = 0.012</text>\r\n",
       "<text text-anchor=\"start\" x=\"331\" y=\"-22.8\" font-family=\"Helvetica,sans-Serif\" font-size=\"14.00\">samples = 643</text>\r\n",
       "<text text-anchor=\"start\" x=\"322\" y=\"-7.8\" font-family=\"Helvetica,sans-Serif\" font-size=\"14.00\">value = [3, 639, 1]</text>\r\n",
       "</g>\r\n",
       "<!-- 7&#45;&gt;8 -->\r\n",
       "<g id=\"edge8\" class=\"edge\"><title>7&#45;&gt;8</title>\r\n",
       "<path fill=\"none\" stroke=\"black\" d=\"M459.131,-88.9485C446.527,-79.3431 432.791,-68.8747 420.286,-59.345\"/>\r\n",
       "<polygon fill=\"black\" stroke=\"black\" points=\"422.346,-56.5144 412.271,-53.2367 418.103,-62.0819 422.346,-56.5144\"/>\r\n",
       "</g>\r\n",
       "<!-- 9 -->\r\n",
       "<g id=\"node10\" class=\"node\"><title>9</title>\r\n",
       "<path fill=\"#40e685\" stroke=\"black\" d=\"M570,-53C570,-53 473,-53 473,-53 467,-53 461,-47 461,-41 461,-41 461,-12 461,-12 461,-6 467,-0 473,-0 473,-0 570,-0 570,-0 576,-0 582,-6 582,-12 582,-12 582,-41 582,-41 582,-47 576,-53 570,-53\"/>\r\n",
       "<text text-anchor=\"start\" x=\"484\" y=\"-37.8\" font-family=\"Helvetica,sans-Serif\" font-size=\"14.00\">gini = 0.064</text>\r\n",
       "<text text-anchor=\"start\" x=\"478\" y=\"-22.8\" font-family=\"Helvetica,sans-Serif\" font-size=\"14.00\">samples = 30</text>\r\n",
       "<text text-anchor=\"start\" x=\"469\" y=\"-7.8\" font-family=\"Helvetica,sans-Serif\" font-size=\"14.00\">value = [0, 29, 1]</text>\r\n",
       "</g>\r\n",
       "<!-- 7&#45;&gt;9 -->\r\n",
       "<g id=\"edge9\" class=\"edge\"><title>7&#45;&gt;9</title>\r\n",
       "<path fill=\"none\" stroke=\"black\" d=\"M509.145,-88.9485C510.819,-80.6238 512.623,-71.6509 514.322,-63.2027\"/>\r\n",
       "<polygon fill=\"black\" stroke=\"black\" points=\"517.786,-63.7304 516.325,-53.2367 510.923,-62.3506 517.786,-63.7304\"/>\r\n",
       "</g>\r\n",
       "<!-- 11 -->\r\n",
       "<g id=\"node12\" class=\"node\"><title>11</title>\r\n",
       "<path fill=\"#39e581\" stroke=\"black\" d=\"M719,-53C719,-53 630,-53 630,-53 624,-53 618,-47 618,-41 618,-41 618,-12 618,-12 618,-6 624,-0 630,-0 630,-0 719,-0 719,-0 725,-0 731,-6 731,-12 731,-12 731,-41 731,-41 731,-47 725,-53 719,-53\"/>\r\n",
       "<text text-anchor=\"start\" x=\"645.5\" y=\"-37.8\" font-family=\"Helvetica,sans-Serif\" font-size=\"14.00\">gini = 0.0</text>\r\n",
       "<text text-anchor=\"start\" x=\"635\" y=\"-22.8\" font-family=\"Helvetica,sans-Serif\" font-size=\"14.00\">samples = 7</text>\r\n",
       "<text text-anchor=\"start\" x=\"626\" y=\"-7.8\" font-family=\"Helvetica,sans-Serif\" font-size=\"14.00\">value = [0, 7, 0]</text>\r\n",
       "</g>\r\n",
       "<!-- 10&#45;&gt;11 -->\r\n",
       "<g id=\"edge11\" class=\"edge\"><title>10&#45;&gt;11</title>\r\n",
       "<path fill=\"none\" stroke=\"black\" d=\"M680.352,-88.9485C679.559,-80.6238 678.705,-71.6509 677.9,-63.2027\"/>\r\n",
       "<polygon fill=\"black\" stroke=\"black\" points=\"681.384,-62.8598 676.951,-53.2367 674.415,-63.5235 681.384,-62.8598\"/>\r\n",
       "</g>\r\n",
       "<!-- 12 -->\r\n",
       "<g id=\"node13\" class=\"node\"><title>12</title>\r\n",
       "<path fill=\"#7beeab\" stroke=\"black\" d=\"M858,-53C858,-53 761,-53 761,-53 755,-53 749,-47 749,-41 749,-41 749,-12 749,-12 749,-6 755,-0 761,-0 761,-0 858,-0 858,-0 864,-0 870,-6 870,-12 870,-12 870,-41 870,-41 870,-47 864,-53 858,-53\"/>\r\n",
       "<text text-anchor=\"start\" x=\"772\" y=\"-37.8\" font-family=\"Helvetica,sans-Serif\" font-size=\"14.00\">gini = 0.375</text>\r\n",
       "<text text-anchor=\"start\" x=\"766\" y=\"-22.8\" font-family=\"Helvetica,sans-Serif\" font-size=\"14.00\">samples = 32</text>\r\n",
       "<text text-anchor=\"start\" x=\"757\" y=\"-7.8\" font-family=\"Helvetica,sans-Serif\" font-size=\"14.00\">value = [0, 24, 8]</text>\r\n",
       "</g>\r\n",
       "<!-- 10&#45;&gt;12 -->\r\n",
       "<g id=\"edge12\" class=\"edge\"><title>10&#45;&gt;12</title>\r\n",
       "<path fill=\"none\" stroke=\"black\" d=\"M727.569,-88.9485C740.376,-79.3431 754.334,-68.8747 767.04,-59.345\"/>\r\n",
       "<polygon fill=\"black\" stroke=\"black\" points=\"769.284,-62.0368 775.184,-53.2367 765.084,-56.4367 769.284,-62.0368\"/>\r\n",
       "</g>\r\n",
       "</g>\r\n",
       "</svg>\r\n"
      ],
      "text/plain": [
       "<graphviz.files.Source at 0x181e76703a0>"
      ]
     },
     "execution_count": 43,
     "metadata": {},
     "output_type": "execute_result"
    }
   ],
   "source": [
    "runtree(dem_endorse, dem_pred, 3, 42)"
   ]
  },
  {
   "cell_type": "code",
   "execution_count": 44,
   "metadata": {},
   "outputs": [
    {
     "data": {
      "image/svg+xml": [
       "<?xml version=\"1.0\" encoding=\"UTF-8\" standalone=\"no\"?>\r\n",
       "<!DOCTYPE svg PUBLIC \"-//W3C//DTD SVG 1.1//EN\"\r\n",
       " \"http://www.w3.org/Graphics/SVG/1.1/DTD/svg11.dtd\">\r\n",
       "<!-- Generated by graphviz version 2.38.0 (20140413.2041)\r\n",
       " -->\r\n",
       "<!-- Title: Tree Pages: 1 -->\r\n",
       "<svg width=\"1094pt\" height=\"373pt\"\r\n",
       " viewBox=\"0.00 0.00 1094.00 373.00\" xmlns=\"http://www.w3.org/2000/svg\" xmlns:xlink=\"http://www.w3.org/1999/xlink\">\r\n",
       "<g id=\"graph0\" class=\"graph\" transform=\"scale(1 1) rotate(0) translate(4 369)\">\r\n",
       "<title>Tree</title>\r\n",
       "<polygon fill=\"white\" stroke=\"none\" points=\"-4,4 -4,-369 1090,-369 1090,4 -4,4\"/>\r\n",
       "<!-- 0 -->\r\n",
       "<g id=\"node1\" class=\"node\"><title>0</title>\r\n",
       "<path fill=\"#4de88d\" stroke=\"black\" d=\"M600.5,-365C600.5,-365 472.5,-365 472.5,-365 466.5,-365 460.5,-359 460.5,-353 460.5,-353 460.5,-309 460.5,-309 460.5,-303 466.5,-297 472.5,-297 472.5,-297 600.5,-297 600.5,-297 606.5,-297 612.5,-303 612.5,-309 612.5,-309 612.5,-353 612.5,-353 612.5,-359 606.5,-365 600.5,-365\"/>\r\n",
       "<text text-anchor=\"start\" x=\"468.5\" y=\"-349.8\" font-family=\"Helvetica,sans-Serif\" font-size=\"14.00\">Koch Support? ≤ &#45;0.5</text>\r\n",
       "<text text-anchor=\"start\" x=\"503\" y=\"-334.8\" font-family=\"Helvetica,sans-Serif\" font-size=\"14.00\">gini = 0.17</text>\r\n",
       "<text text-anchor=\"start\" x=\"489\" y=\"-319.8\" font-family=\"Helvetica,sans-Serif\" font-size=\"14.00\">samples = 774</text>\r\n",
       "<text text-anchor=\"start\" x=\"471.5\" y=\"-304.8\" font-family=\"Helvetica,sans-Serif\" font-size=\"14.00\">value = [54, 703, 17]</text>\r\n",
       "</g>\r\n",
       "<!-- 1 -->\r\n",
       "<g id=\"node2\" class=\"node\"><title>1</title>\r\n",
       "<path fill=\"#b5f5d0\" stroke=\"black\" d=\"M513,-261C513,-261 358,-261 358,-261 352,-261 346,-255 346,-249 346,-249 346,-205 346,-205 346,-199 352,-193 358,-193 358,-193 513,-193 513,-193 519,-193 525,-199 525,-205 525,-205 525,-249 525,-249 525,-255 519,-261 513,-261\"/>\r\n",
       "<text text-anchor=\"start\" x=\"354\" y=\"-245.8\" font-family=\"Helvetica,sans-Serif\" font-size=\"14.00\">Bannon Endorsed? ≤ &#45;0.5</text>\r\n",
       "<text text-anchor=\"start\" x=\"398\" y=\"-230.8\" font-family=\"Helvetica,sans-Serif\" font-size=\"14.00\">gini = 0.484</text>\r\n",
       "<text text-anchor=\"start\" x=\"392\" y=\"-215.8\" font-family=\"Helvetica,sans-Serif\" font-size=\"14.00\">samples = 90</text>\r\n",
       "<text text-anchor=\"start\" x=\"379\" y=\"-200.8\" font-family=\"Helvetica,sans-Serif\" font-size=\"14.00\">value = [34, 55, 1]</text>\r\n",
       "</g>\r\n",
       "<!-- 0&#45;&gt;1 -->\r\n",
       "<g id=\"edge1\" class=\"edge\"><title>0&#45;&gt;1</title>\r\n",
       "<path fill=\"none\" stroke=\"black\" d=\"M503.708,-296.884C494.8,-287.887 485.05,-278.041 475.78,-268.678\"/>\r\n",
       "<polygon fill=\"black\" stroke=\"black\" points=\"477.996,-265.943 468.473,-261.299 473.022,-270.868 477.996,-265.943\"/>\r\n",
       "<text text-anchor=\"middle\" x=\"468.35\" y=\"-282.599\" font-family=\"Helvetica,sans-Serif\" font-size=\"14.00\">True</text>\r\n",
       "</g>\r\n",
       "<!-- 8 -->\r\n",
       "<g id=\"node9\" class=\"node\"><title>8</title>\r\n",
       "<path fill=\"#44e688\" stroke=\"black\" d=\"M699,-261C699,-261 576,-261 576,-261 570,-261 564,-255 564,-249 564,-249 564,-205 564,-205 564,-199 570,-193 576,-193 576,-193 699,-193 699,-193 705,-193 711,-199 711,-205 711,-205 711,-249 711,-249 711,-255 705,-261 699,-261\"/>\r\n",
       "<text text-anchor=\"start\" x=\"572\" y=\"-245.8\" font-family=\"Helvetica,sans-Serif\" font-size=\"14.00\">Koch Support? ≤ 0.5</text>\r\n",
       "<text text-anchor=\"start\" x=\"600\" y=\"-230.8\" font-family=\"Helvetica,sans-Serif\" font-size=\"14.00\">gini = 0.101</text>\r\n",
       "<text text-anchor=\"start\" x=\"590\" y=\"-215.8\" font-family=\"Helvetica,sans-Serif\" font-size=\"14.00\">samples = 684</text>\r\n",
       "<text text-anchor=\"start\" x=\"572.5\" y=\"-200.8\" font-family=\"Helvetica,sans-Serif\" font-size=\"14.00\">value = [20, 648, 16]</text>\r\n",
       "</g>\r\n",
       "<!-- 0&#45;&gt;8 -->\r\n",
       "<g id=\"edge8\" class=\"edge\"><title>0&#45;&gt;8</title>\r\n",
       "<path fill=\"none\" stroke=\"black\" d=\"M569.292,-296.884C578.2,-287.887 587.95,-278.041 597.22,-268.678\"/>\r\n",
       "<polygon fill=\"black\" stroke=\"black\" points=\"599.978,-270.868 604.527,-261.299 595.004,-265.943 599.978,-270.868\"/>\r\n",
       "<text text-anchor=\"middle\" x=\"604.65\" y=\"-282.599\" font-family=\"Helvetica,sans-Serif\" font-size=\"14.00\">False</text>\r\n",
       "</g>\r\n",
       "<!-- 2 -->\r\n",
       "<g id=\"node3\" class=\"node\"><title>2</title>\r\n",
       "<path fill=\"#e89152\" stroke=\"black\" d=\"M282,-157C282,-157 109,-157 109,-157 103,-157 97,-151 97,-145 97,-145 97,-101 97,-101 97,-95 103,-89 109,-89 109,-89 282,-89 282,-89 288,-89 294,-95 294,-101 294,-101 294,-145 294,-145 294,-151 288,-157 282,-157\"/>\r\n",
       "<text text-anchor=\"start\" x=\"105\" y=\"-141.8\" font-family=\"Helvetica,sans-Serif\" font-size=\"14.00\">Main Street Endorsed? ≤ 0.5</text>\r\n",
       "<text text-anchor=\"start\" x=\"158\" y=\"-126.8\" font-family=\"Helvetica,sans-Serif\" font-size=\"14.00\">gini = 0.215</text>\r\n",
       "<text text-anchor=\"start\" x=\"152\" y=\"-111.8\" font-family=\"Helvetica,sans-Serif\" font-size=\"14.00\">samples = 17</text>\r\n",
       "<text text-anchor=\"start\" x=\"143\" y=\"-96.8\" font-family=\"Helvetica,sans-Serif\" font-size=\"14.00\">value = [15, 1, 1]</text>\r\n",
       "</g>\r\n",
       "<!-- 1&#45;&gt;2 -->\r\n",
       "<g id=\"edge2\" class=\"edge\"><title>1&#45;&gt;2</title>\r\n",
       "<path fill=\"none\" stroke=\"black\" d=\"M357.579,-192.884C333.67,-182.722 307.209,-171.476 282.72,-161.069\"/>\r\n",
       "<polygon fill=\"black\" stroke=\"black\" points=\"284.013,-157.815 273.441,-157.125 281.275,-164.257 284.013,-157.815\"/>\r\n",
       "</g>\r\n",
       "<!-- 5 -->\r\n",
       "<g id=\"node6\" class=\"node\"><title>5</title>\r\n",
       "<path fill=\"#7feead\" stroke=\"black\" d=\"M504,-157C504,-157 367,-157 367,-157 361,-157 355,-151 355,-145 355,-145 355,-101 355,-101 355,-95 361,-89 367,-89 367,-89 504,-89 504,-89 510,-89 516,-95 516,-101 516,-101 516,-145 516,-145 516,-151 510,-157 504,-157\"/>\r\n",
       "<text text-anchor=\"start\" x=\"363\" y=\"-141.8\" font-family=\"Helvetica,sans-Serif\" font-size=\"14.00\">NRA Endorsed? ≤ &#45;0.5</text>\r\n",
       "<text text-anchor=\"start\" x=\"398\" y=\"-126.8\" font-family=\"Helvetica,sans-Serif\" font-size=\"14.00\">gini = 0.385</text>\r\n",
       "<text text-anchor=\"start\" x=\"392\" y=\"-111.8\" font-family=\"Helvetica,sans-Serif\" font-size=\"14.00\">samples = 73</text>\r\n",
       "<text text-anchor=\"start\" x=\"379\" y=\"-96.8\" font-family=\"Helvetica,sans-Serif\" font-size=\"14.00\">value = [19, 54, 0]</text>\r\n",
       "</g>\r\n",
       "<!-- 1&#45;&gt;5 -->\r\n",
       "<g id=\"edge5\" class=\"edge\"><title>1&#45;&gt;5</title>\r\n",
       "<path fill=\"none\" stroke=\"black\" d=\"M435.5,-192.884C435.5,-184.778 435.5,-175.982 435.5,-167.472\"/>\r\n",
       "<polygon fill=\"black\" stroke=\"black\" points=\"439,-167.299 435.5,-157.299 432,-167.299 439,-167.299\"/>\r\n",
       "</g>\r\n",
       "<!-- 3 -->\r\n",
       "<g id=\"node4\" class=\"node\"><title>3</title>\r\n",
       "<path fill=\"#e78946\" stroke=\"black\" d=\"M109,-53C109,-53 12,-53 12,-53 6,-53 0,-47 0,-41 0,-41 0,-12 0,-12 0,-6 6,-0 12,-0 12,-0 109,-0 109,-0 115,-0 121,-6 121,-12 121,-12 121,-41 121,-41 121,-47 115,-53 109,-53\"/>\r\n",
       "<text text-anchor=\"start\" x=\"23\" y=\"-37.8\" font-family=\"Helvetica,sans-Serif\" font-size=\"14.00\">gini = 0.117</text>\r\n",
       "<text text-anchor=\"start\" x=\"17\" y=\"-22.8\" font-family=\"Helvetica,sans-Serif\" font-size=\"14.00\">samples = 16</text>\r\n",
       "<text text-anchor=\"start\" x=\"8\" y=\"-7.8\" font-family=\"Helvetica,sans-Serif\" font-size=\"14.00\">value = [15, 1, 0]</text>\r\n",
       "</g>\r\n",
       "<!-- 2&#45;&gt;3 -->\r\n",
       "<g id=\"edge3\" class=\"edge\"><title>2&#45;&gt;3</title>\r\n",
       "<path fill=\"none\" stroke=\"black\" d=\"M148.284,-88.9485C134.431,-79.2516 119.322,-68.6752 105.604,-59.073\"/>\r\n",
       "<polygon fill=\"black\" stroke=\"black\" points=\"107.466,-56.1041 97.2667,-53.2367 103.452,-61.8387 107.466,-56.1041\"/>\r\n",
       "</g>\r\n",
       "<!-- 4 -->\r\n",
       "<g id=\"node5\" class=\"node\"><title>4</title>\r\n",
       "<path fill=\"#8139e5\" stroke=\"black\" d=\"M240,-53C240,-53 151,-53 151,-53 145,-53 139,-47 139,-41 139,-41 139,-12 139,-12 139,-6 145,-0 151,-0 151,-0 240,-0 240,-0 246,-0 252,-6 252,-12 252,-12 252,-41 252,-41 252,-47 246,-53 240,-53\"/>\r\n",
       "<text text-anchor=\"start\" x=\"166.5\" y=\"-37.8\" font-family=\"Helvetica,sans-Serif\" font-size=\"14.00\">gini = 0.0</text>\r\n",
       "<text text-anchor=\"start\" x=\"156\" y=\"-22.8\" font-family=\"Helvetica,sans-Serif\" font-size=\"14.00\">samples = 1</text>\r\n",
       "<text text-anchor=\"start\" x=\"147\" y=\"-7.8\" font-family=\"Helvetica,sans-Serif\" font-size=\"14.00\">value = [0, 0, 1]</text>\r\n",
       "</g>\r\n",
       "<!-- 2&#45;&gt;4 -->\r\n",
       "<g id=\"edge4\" class=\"edge\"><title>2&#45;&gt;4</title>\r\n",
       "<path fill=\"none\" stroke=\"black\" d=\"M195.5,-88.9485C195.5,-80.7153 195.5,-71.848 195.5,-63.4814\"/>\r\n",
       "<polygon fill=\"black\" stroke=\"black\" points=\"199,-63.2367 195.5,-53.2367 192,-63.2367 199,-63.2367\"/>\r\n",
       "</g>\r\n",
       "<!-- 6 -->\r\n",
       "<g id=\"node7\" class=\"node\"><title>6</title>\r\n",
       "<path fill=\"#ea985d\" stroke=\"black\" d=\"M379,-53C379,-53 282,-53 282,-53 276,-53 270,-47 270,-41 270,-41 270,-12 270,-12 270,-6 276,-0 282,-0 282,-0 379,-0 379,-0 385,-0 391,-6 391,-12 391,-12 391,-41 391,-41 391,-47 385,-53 379,-53\"/>\r\n",
       "<text text-anchor=\"start\" x=\"297\" y=\"-37.8\" font-family=\"Helvetica,sans-Serif\" font-size=\"14.00\">gini = 0.26</text>\r\n",
       "<text text-anchor=\"start\" x=\"287\" y=\"-22.8\" font-family=\"Helvetica,sans-Serif\" font-size=\"14.00\">samples = 13</text>\r\n",
       "<text text-anchor=\"start\" x=\"278\" y=\"-7.8\" font-family=\"Helvetica,sans-Serif\" font-size=\"14.00\">value = [11, 2, 0]</text>\r\n",
       "</g>\r\n",
       "<!-- 5&#45;&gt;6 -->\r\n",
       "<g id=\"edge6\" class=\"edge\"><title>5&#45;&gt;6</title>\r\n",
       "<path fill=\"none\" stroke=\"black\" d=\"M398.776,-88.9485C388.408,-79.6175 377.136,-69.4722 366.793,-60.1641\"/>\r\n",
       "<polygon fill=\"black\" stroke=\"black\" points=\"368.871,-57.3248 359.096,-53.2367 364.188,-62.5279 368.871,-57.3248\"/>\r\n",
       "</g>\r\n",
       "<!-- 7 -->\r\n",
       "<g id=\"node8\" class=\"node\"><title>7</title>\r\n",
       "<path fill=\"#57e994\" stroke=\"black\" d=\"M518,-53C518,-53 421,-53 421,-53 415,-53 409,-47 409,-41 409,-41 409,-12 409,-12 409,-6 415,-0 421,-0 421,-0 518,-0 518,-0 524,-0 530,-6 530,-12 530,-12 530,-41 530,-41 530,-47 524,-53 518,-53\"/>\r\n",
       "<text text-anchor=\"start\" x=\"432\" y=\"-37.8\" font-family=\"Helvetica,sans-Serif\" font-size=\"14.00\">gini = 0.231</text>\r\n",
       "<text text-anchor=\"start\" x=\"426\" y=\"-22.8\" font-family=\"Helvetica,sans-Serif\" font-size=\"14.00\">samples = 60</text>\r\n",
       "<text text-anchor=\"start\" x=\"417\" y=\"-7.8\" font-family=\"Helvetica,sans-Serif\" font-size=\"14.00\">value = [8, 52, 0]</text>\r\n",
       "</g>\r\n",
       "<!-- 5&#45;&gt;7 -->\r\n",
       "<g id=\"edge7\" class=\"edge\"><title>5&#45;&gt;7</title>\r\n",
       "<path fill=\"none\" stroke=\"black\" d=\"M447.392,-88.9485C450.453,-80.4408 453.757,-71.2562 456.855,-62.6464\"/>\r\n",
       "<polygon fill=\"black\" stroke=\"black\" points=\"460.148,-63.8311 460.24,-53.2367 453.561,-61.4613 460.148,-63.8311\"/>\r\n",
       "</g>\r\n",
       "<!-- 9 -->\r\n",
       "<g id=\"node10\" class=\"node\"><title>9</title>\r\n",
       "<path fill=\"#42e686\" stroke=\"black\" d=\"M720,-157C720,-157 555,-157 555,-157 549,-157 543,-151 543,-145 543,-145 543,-101 543,-101 543,-95 549,-89 555,-89 555,-89 720,-89 720,-89 726,-89 732,-95 732,-101 732,-101 732,-145 732,-145 732,-151 726,-157 720,-157\"/>\r\n",
       "<text text-anchor=\"start\" x=\"551\" y=\"-141.8\" font-family=\"Helvetica,sans-Serif\" font-size=\"14.00\">Chamber Endorsed? ≤ &#45;0.5</text>\r\n",
       "<text text-anchor=\"start\" x=\"600\" y=\"-126.8\" font-family=\"Helvetica,sans-Serif\" font-size=\"14.00\">gini = 0.082</text>\r\n",
       "<text text-anchor=\"start\" x=\"590\" y=\"-111.8\" font-family=\"Helvetica,sans-Serif\" font-size=\"14.00\">samples = 663</text>\r\n",
       "<text text-anchor=\"start\" x=\"577\" y=\"-96.8\" font-family=\"Helvetica,sans-Serif\" font-size=\"14.00\">value = [20, 635, 8]</text>\r\n",
       "</g>\r\n",
       "<!-- 8&#45;&gt;9 -->\r\n",
       "<g id=\"edge9\" class=\"edge\"><title>8&#45;&gt;9</title>\r\n",
       "<path fill=\"none\" stroke=\"black\" d=\"M637.5,-192.884C637.5,-184.778 637.5,-175.982 637.5,-167.472\"/>\r\n",
       "<polygon fill=\"black\" stroke=\"black\" points=\"641,-167.299 637.5,-157.299 634,-167.299 641,-167.299\"/>\r\n",
       "</g>\r\n",
       "<!-- 12 -->\r\n",
       "<g id=\"node13\" class=\"node\"><title>12</title>\r\n",
       "<path fill=\"#b3f5cf\" stroke=\"black\" d=\"M991.5,-157C991.5,-157 797.5,-157 797.5,-157 791.5,-157 785.5,-151 785.5,-145 785.5,-145 785.5,-101 785.5,-101 785.5,-95 791.5,-89 797.5,-89 797.5,-89 991.5,-89 991.5,-89 997.5,-89 1003.5,-95 1003.5,-101 1003.5,-101 1003.5,-145 1003.5,-145 1003.5,-151 997.5,-157 991.5,-157\"/>\r\n",
       "<text text-anchor=\"start\" x=\"793.5\" y=\"-141.8\" font-family=\"Helvetica,sans-Serif\" font-size=\"14.00\">Great America Endorsed? ≤ 0.5</text>\r\n",
       "<text text-anchor=\"start\" x=\"857\" y=\"-126.8\" font-family=\"Helvetica,sans-Serif\" font-size=\"14.00\">gini = 0.472</text>\r\n",
       "<text text-anchor=\"start\" x=\"851\" y=\"-111.8\" font-family=\"Helvetica,sans-Serif\" font-size=\"14.00\">samples = 21</text>\r\n",
       "<text text-anchor=\"start\" x=\"842\" y=\"-96.8\" font-family=\"Helvetica,sans-Serif\" font-size=\"14.00\">value = [0, 13, 8]</text>\r\n",
       "</g>\r\n",
       "<!-- 8&#45;&gt;12 -->\r\n",
       "<g id=\"edge12\" class=\"edge\"><title>8&#45;&gt;12</title>\r\n",
       "<path fill=\"none\" stroke=\"black\" d=\"M711.146,-196.771C739.386,-185.563 771.978,-172.627 801.78,-160.799\"/>\r\n",
       "<polygon fill=\"black\" stroke=\"black\" points=\"803.346,-163.944 811.349,-157.001 800.763,-157.437 803.346,-163.944\"/>\r\n",
       "</g>\r\n",
       "<!-- 10 -->\r\n",
       "<g id=\"node11\" class=\"node\"><title>10</title>\r\n",
       "<path fill=\"#d7fae6\" stroke=\"black\" d=\"M649,-53C649,-53 560,-53 560,-53 554,-53 548,-47 548,-41 548,-41 548,-12 548,-12 548,-6 554,-0 560,-0 560,-0 649,-0 649,-0 655,-0 661,-6 661,-12 661,-12 661,-41 661,-41 661,-47 655,-53 649,-53\"/>\r\n",
       "<text text-anchor=\"start\" x=\"567\" y=\"-37.8\" font-family=\"Helvetica,sans-Serif\" font-size=\"14.00\">gini = 0.494</text>\r\n",
       "<text text-anchor=\"start\" x=\"565\" y=\"-22.8\" font-family=\"Helvetica,sans-Serif\" font-size=\"14.00\">samples = 9</text>\r\n",
       "<text text-anchor=\"start\" x=\"556\" y=\"-7.8\" font-family=\"Helvetica,sans-Serif\" font-size=\"14.00\">value = [4, 5, 0]</text>\r\n",
       "</g>\r\n",
       "<!-- 9&#45;&gt;10 -->\r\n",
       "<g id=\"edge10\" class=\"edge\"><title>9&#45;&gt;10</title>\r\n",
       "<path fill=\"none\" stroke=\"black\" d=\"M625.958,-88.9485C623.019,-80.5323 619.849,-71.4536 616.87,-62.9243\"/>\r\n",
       "<polygon fill=\"black\" stroke=\"black\" points=\"620.089,-61.5237 613.487,-53.2367 613.48,-63.8315 620.089,-61.5237\"/>\r\n",
       "</g>\r\n",
       "<!-- 11 -->\r\n",
       "<g id=\"node12\" class=\"node\"><title>11</title>\r\n",
       "<path fill=\"#40e686\" stroke=\"black\" d=\"M804,-53C804,-53 691,-53 691,-53 685,-53 679,-47 679,-41 679,-41 679,-12 679,-12 679,-6 685,-0 691,-0 691,-0 804,-0 804,-0 810,-0 816,-6 816,-12 816,-12 816,-41 816,-41 816,-47 810,-53 804,-53\"/>\r\n",
       "<text text-anchor=\"start\" x=\"710\" y=\"-37.8\" font-family=\"Helvetica,sans-Serif\" font-size=\"14.00\">gini = 0.071</text>\r\n",
       "<text text-anchor=\"start\" x=\"700\" y=\"-22.8\" font-family=\"Helvetica,sans-Serif\" font-size=\"14.00\">samples = 654</text>\r\n",
       "<text text-anchor=\"start\" x=\"687\" y=\"-7.8\" font-family=\"Helvetica,sans-Serif\" font-size=\"14.00\">value = [16, 630, 8]</text>\r\n",
       "</g>\r\n",
       "<!-- 9&#45;&gt;11 -->\r\n",
       "<g id=\"edge11\" class=\"edge\"><title>9&#45;&gt;11</title>\r\n",
       "<path fill=\"none\" stroke=\"black\" d=\"M675.973,-88.9485C686.941,-79.526 698.875,-69.2731 709.797,-59.8906\"/>\r\n",
       "<polygon fill=\"black\" stroke=\"black\" points=\"712.237,-62.408 717.542,-53.2367 707.676,-57.0983 712.237,-62.408\"/>\r\n",
       "</g>\r\n",
       "<!-- 13 -->\r\n",
       "<g id=\"node14\" class=\"node\"><title>13</title>\r\n",
       "<path fill=\"#85efb1\" stroke=\"black\" d=\"M943,-53C943,-53 846,-53 846,-53 840,-53 834,-47 834,-41 834,-41 834,-12 834,-12 834,-6 840,-0 846,-0 846,-0 943,-0 943,-0 949,-0 955,-6 955,-12 955,-12 955,-41 955,-41 955,-47 949,-53 943,-53\"/>\r\n",
       "<text text-anchor=\"start\" x=\"857\" y=\"-37.8\" font-family=\"Helvetica,sans-Serif\" font-size=\"14.00\">gini = 0.401</text>\r\n",
       "<text text-anchor=\"start\" x=\"851\" y=\"-22.8\" font-family=\"Helvetica,sans-Serif\" font-size=\"14.00\">samples = 18</text>\r\n",
       "<text text-anchor=\"start\" x=\"842\" y=\"-7.8\" font-family=\"Helvetica,sans-Serif\" font-size=\"14.00\">value = [0, 13, 5]</text>\r\n",
       "</g>\r\n",
       "<!-- 12&#45;&gt;13 -->\r\n",
       "<g id=\"edge13\" class=\"edge\"><title>12&#45;&gt;13</title>\r\n",
       "<path fill=\"none\" stroke=\"black\" d=\"M894.5,-88.9485C894.5,-80.7153 894.5,-71.848 894.5,-63.4814\"/>\r\n",
       "<polygon fill=\"black\" stroke=\"black\" points=\"898,-63.2367 894.5,-53.2367 891,-63.2367 898,-63.2367\"/>\r\n",
       "</g>\r\n",
       "<!-- 14 -->\r\n",
       "<g id=\"node15\" class=\"node\"><title>14</title>\r\n",
       "<path fill=\"#8139e5\" stroke=\"black\" d=\"M1074,-53C1074,-53 985,-53 985,-53 979,-53 973,-47 973,-41 973,-41 973,-12 973,-12 973,-6 979,-0 985,-0 985,-0 1074,-0 1074,-0 1080,-0 1086,-6 1086,-12 1086,-12 1086,-41 1086,-41 1086,-47 1080,-53 1074,-53\"/>\r\n",
       "<text text-anchor=\"start\" x=\"1000.5\" y=\"-37.8\" font-family=\"Helvetica,sans-Serif\" font-size=\"14.00\">gini = 0.0</text>\r\n",
       "<text text-anchor=\"start\" x=\"990\" y=\"-22.8\" font-family=\"Helvetica,sans-Serif\" font-size=\"14.00\">samples = 3</text>\r\n",
       "<text text-anchor=\"start\" x=\"981\" y=\"-7.8\" font-family=\"Helvetica,sans-Serif\" font-size=\"14.00\">value = [0, 0, 3]</text>\r\n",
       "</g>\r\n",
       "<!-- 12&#45;&gt;14 -->\r\n",
       "<g id=\"edge14\" class=\"edge\"><title>12&#45;&gt;14</title>\r\n",
       "<path fill=\"none\" stroke=\"black\" d=\"M941.716,-88.9485C955.569,-79.2516 970.678,-68.6752 984.396,-59.073\"/>\r\n",
       "<polygon fill=\"black\" stroke=\"black\" points=\"986.548,-61.8387 992.733,-53.2367 982.534,-56.1041 986.548,-61.8387\"/>\r\n",
       "</g>\r\n",
       "</g>\r\n",
       "</svg>\r\n"
      ],
      "text/plain": [
       "<graphviz.files.Source at 0x181e7616fa0>"
      ]
     },
     "execution_count": 44,
     "metadata": {},
     "output_type": "execute_result"
    }
   ],
   "source": [
    "runtree(rep_important, rep_pred, 3, 42)"
   ]
  },
  {
   "cell_type": "markdown",
   "metadata": {},
   "source": [
    "### Plot error of trees over different max depths"
   ]
  },
  {
   "cell_type": "code",
   "execution_count": 52,
   "metadata": {},
   "outputs": [
    {
     "data": {
      "image/png": "[encoded data removed]",
      "text/plain": [
       "<Figure size 576x432 with 1 Axes>"
      ]
     },
     "metadata": {
      "needs_background": "light"
     },
     "output_type": "display_data"
    }
   ],
   "source": [
    "# Dems error line\n",
    "score = []\n",
    "for i in range(1,15):\n",
    "    clf = tree.DecisionTreeClassifier(random_state=0, max_depth=i)\n",
    "    clf = clf.fit(dem_endorse, dem_pred)\n",
    "    score += [clf.score(dem_endorse, dem_pred)]\n",
    "    \n",
    "plt.figure(figsize=(8,6))\n",
    "plt.plot(range(1,15), score)\n",
    "plt.xlabel('Tree depth')\n",
    "plt.ylabel('Accuracy')\n",
    "plt.title('Biden Tree Accuracy')\n",
    "plt.savefig('biden_tree_acc')\n",
    "plt.show()"
   ]
  },
  {
   "cell_type": "code",
   "execution_count": 51,
   "metadata": {},
   "outputs": [
    {
     "data": {
      "image/png": "[encoded data removed]",
      "text/plain": [
       "<Figure size 576x432 with 1 Axes>"
      ]
     },
     "metadata": {
      "needs_background": "light"
     },
     "output_type": "display_data"
    }
   ],
   "source": [
    "# Rep error line\n",
    "score = []\n",
    "for i in range(1,15):\n",
    "    clf = tree.DecisionTreeClassifier(random_state=0, max_depth=i)\n",
    "    clf = clf.fit(rep_important, rep_pred)\n",
    "    score += [clf.score(rep_important, rep_pred)]\n",
    "\n",
    "plt.figure(figsize=(8,6))\n",
    "plt.plot(range(1,15), score)\n",
    "plt.xlabel('Tree depth')\n",
    "plt.ylabel('Accuracy')\n",
    "plt.title('Trump Tree Accuracy')\n",
    "plt.savefig('trump_tree_acc')\n",
    "plt.show()"
   ]
  },
  {
   "cell_type": "markdown",
   "metadata": {},
   "source": [
    "# Regressions"
   ]
  },
  {
   "cell_type": "markdown",
   "metadata": {},
   "source": [
    "### Dem"
   ]
  },
  {
   "cell_type": "code",
   "execution_count": 23,
   "metadata": {},
   "outputs": [],
   "source": [
    "log_dem_endorse = dem_endorse.replace({-1:0, 0:0.5})\n",
    "log_dem_pred = dem_pred.replace({-1:0, 0:0.5})"
   ]
  },
  {
   "cell_type": "code",
   "execution_count": 24,
   "metadata": {},
   "outputs": [
    {
     "data": {
      "text/plain": [
       "LinearRegression()"
      ]
     },
     "execution_count": 24,
     "metadata": {},
     "output_type": "execute_result"
    }
   ],
   "source": [
    "clf = LinearRegression()\n",
    "clf.fit(dem_endorse,\n",
    "        dem_pred)"
   ]
  },
  {
   "cell_type": "code",
   "execution_count": 25,
   "metadata": {},
   "outputs": [
    {
     "name": "stdout",
     "output_type": "stream",
     "text": [
      "Optimization terminated successfully.\n",
      "         Current function value: 0.683646\n",
      "         Iterations 4\n",
      "                           Logit Regression Results                           \n",
      "==============================================================================\n",
      "Dep. Variable:        Biden Endorsed?   No. Observations:                  811\n",
      "Model:                          Logit   Df Residuals:                      800\n",
      "Method:                           MLE   Df Model:                           10\n",
      "Date:                Mon, 10 May 2021   Pseudo R-squ.:                0.005157\n",
      "Time:                        04:59:59   Log-Likelihood:                -554.44\n",
      "converged:                       True   LL-Null:                       -557.31\n",
      "Covariance Type:            nonrobust   LLR p-value:                    0.8360\n",
      "============================================================================================\n",
      "                               coef    std err          z      P>|z|      [0.025      0.975]\n",
      "--------------------------------------------------------------------------------------------\n",
      "Party Support?               0.9420      0.406      2.322      0.020       0.147       1.737\n",
      "Our Revolution Endorsed?     0.0525      0.268      0.196      0.845      -0.474       0.579\n",
      "No Labels Support?          -0.0393      1.098     -0.036      0.971      -2.191       2.112\n",
      "Justice Dems Endorsed?      -0.0471      0.328     -0.143      0.886      -0.690       0.596\n",
      "PCCC Endorsed?              -0.0551      0.584     -0.094      0.925      -1.199       1.089\n",
      "Indivisible Endorsed?       -0.0685      0.353     -0.194      0.846      -0.761       0.624\n",
      "WFP Endorsed?                0.0029      0.420      0.007      0.995      -0.821       0.827\n",
      "VoteVets Endorsed?           0.0250      0.441      0.057      0.955      -0.840       0.890\n",
      "Emily Endorsed?              0.1256      0.306      0.411      0.681      -0.473       0.725\n",
      "Guns Sense Candidate?       -0.0090      0.214     -0.042      0.966      -0.429       0.411\n",
      "const                       -0.4684      0.686     -0.683      0.495      -1.812       0.875\n",
      "============================================================================================\n"
     ]
    }
   ],
   "source": [
    "log_dem = sm.Logit(log_dem_pred, sm.add_constant(log_dem_endorse, prepend=False)).fit()\n",
    "print(log_dem.summary())\n"
   ]
  },
  {
   "cell_type": "code",
   "execution_count": 26,
   "metadata": {},
   "outputs": [
    {
     "data": {
      "text/plain": [
       "0      0.5\n",
       "1      0.5\n",
       "2      0.5\n",
       "3      0.5\n",
       "4      0.5\n",
       "      ... \n",
       "806    0.5\n",
       "807    0.5\n",
       "808    0.5\n",
       "809    0.5\n",
       "810    0.5\n",
       "Name: Biden Endorsed?, Length: 811, dtype: float64"
      ]
     },
     "execution_count": 26,
     "metadata": {},
     "output_type": "execute_result"
    }
   ],
   "source": [
    "log_dem_pred.iloc[:, 0]"
   ]
  },
  {
   "cell_type": "code",
   "execution_count": 27,
   "metadata": {},
   "outputs": [
    {
     "data": {
      "text/plain": [
       "0.009361732789331955"
      ]
     },
     "execution_count": 27,
     "metadata": {},
     "output_type": "execute_result"
    }
   ],
   "source": [
    "# L2 loss function\n",
    "np.mean((log_dem_pred.iloc[:,0].to_numpy() - log_dem.predict(sm.add_constant(log_dem_endorse, prepend=False)).to_numpy())**2)"
   ]
  },
  {
   "cell_type": "code",
   "execution_count": 28,
   "metadata": {},
   "outputs": [
    {
     "data": {
      "text/plain": [
       "26.500000000000014"
      ]
     },
     "execution_count": 28,
     "metadata": {},
     "output_type": "execute_result"
    }
   ],
   "source": [
    "predictions = log_dem.predict(sm.add_constant(log_dem_endorse, prepend=False))\n",
    "\n",
    "rounded = np.round_(predictions, decimals = 1)\n",
    "sum(np.abs(log_dem_pred.iloc[:,0].to_numpy() - rounded.to_numpy()))"
   ]
  },
  {
   "cell_type": "code",
   "execution_count": 29,
   "metadata": {},
   "outputs": [
    {
     "data": {
      "text/plain": [
       "0.17632552404438964"
      ]
     },
     "execution_count": 29,
     "metadata": {},
     "output_type": "execute_result"
    }
   ],
   "source": [
    "sum(rounded != log_dem_pred.iloc[:,0])/len(log_dem_pred)"
   ]
  },
  {
   "cell_type": "markdown",
   "metadata": {},
   "source": [
    "### Rep"
   ]
  },
  {
   "cell_type": "code",
   "execution_count": 30,
   "metadata": {},
   "outputs": [],
   "source": [
    "log_rep_important = rep_important.replace({-1:0, 0:0.5})\n",
    "log_rep_pred = rep_pred.replace({-1:0, 0:0.5})"
   ]
  },
  {
   "cell_type": "code",
   "execution_count": 31,
   "metadata": {},
   "outputs": [
    {
     "name": "stdout",
     "output_type": "stream",
     "text": [
      "Optimization terminated successfully.\n",
      "         Current function value: 0.668550\n",
      "         Iterations 5\n",
      "                           Logit Regression Results                           \n",
      "==============================================================================\n",
      "Dep. Variable:        Trump Endorsed?   No. Observations:                  774\n",
      "Model:                          Logit   Df Residuals:                      760\n",
      "Method:                           MLE   Df Model:                           13\n",
      "Date:                Mon, 10 May 2021   Pseudo R-squ.:                 0.01692\n",
      "Time:                        04:59:59   Log-Likelihood:                -517.46\n",
      "converged:                       True   LL-Null:                       -526.36\n",
      "Covariance Type:            nonrobust   LLR p-value:                    0.1649\n",
      "==============================================================================================\n",
      "                                 coef    std err          z      P>|z|      [0.025      0.975]\n",
      "----------------------------------------------------------------------------------------------\n",
      "Rep Party Support?            -0.1146      0.358     -0.320      0.749      -0.817       0.588\n",
      "Bannon Endorsed?               0.4105      1.049      0.391      0.696      -1.645       2.466\n",
      "Great America Endorsed?        1.0497      1.182      0.888      0.374      -1.267       3.366\n",
      "NRA Endorsed?                  0.6032      0.537      1.123      0.261      -0.449       1.656\n",
      "Right to Life Endorsed?        0.2299      0.264      0.869      0.385      -0.288       0.748\n",
      "Susan B. Anthony Endorsed?    -0.1415      0.407     -0.347      0.728      -0.940       0.657\n",
      "Club for Growth Endorsed?      0.1054      0.535      0.197      0.844      -0.943       1.154\n",
      "Koch Support?                  1.2972      0.453      2.864      0.004       0.409       2.185\n",
      "House Freedom Support?        -0.2663      0.553     -0.481      0.630      -1.350       0.818\n",
      "Tea Party Endorsed?           -0.3180      0.501     -0.634      0.526      -1.301       0.665\n",
      "Main Street Endorsed?         -0.0339      0.447     -0.076      0.940      -0.911       0.843\n",
      "Chamber Endorsed?              1.5334      0.883      1.737      0.082      -0.196       3.263\n",
      "No Labels Support?             0.1124      0.908      0.124      0.901      -1.666       1.891\n",
      "const                         -2.2363      0.818     -2.734      0.006      -3.840      -0.633\n",
      "==============================================================================================\n"
     ]
    }
   ],
   "source": [
    "log_rep = sm.Logit(log_rep_pred, sm.add_constant(log_rep_important, prepend=False)).fit()\n",
    "print(log_rep.summary())"
   ]
  },
  {
   "cell_type": "code",
   "execution_count": 32,
   "metadata": {
    "scrolled": true
   },
   "outputs": [
    {
     "data": {
      "text/plain": [
       "0.015298504302500994"
      ]
     },
     "execution_count": 32,
     "metadata": {},
     "output_type": "execute_result"
    }
   ],
   "source": [
    "# L2 Loss function\n",
    "np.mean((log_rep_pred.iloc[:,0].to_numpy() - log_rep.predict(sm.add_constant(log_rep_important, prepend=False)).to_numpy())**2)"
   ]
  },
  {
   "cell_type": "code",
   "execution_count": 33,
   "metadata": {},
   "outputs": [
    {
     "data": {
      "text/plain": [
       "42.90000000000007"
      ]
     },
     "execution_count": 33,
     "metadata": {},
     "output_type": "execute_result"
    }
   ],
   "source": [
    "predictions = log_rep.predict(sm.add_constant(log_rep_important, prepend=False))\n",
    "\n",
    "rounded = np.round_(predictions, decimals = 1)\n",
    "sum(np.abs(log_rep_pred.iloc[:,0].to_numpy() - rounded.to_numpy()))"
   ]
  },
  {
   "cell_type": "code",
   "execution_count": 34,
   "metadata": {},
   "outputs": [
    {
     "data": {
      "text/plain": [
       "0.2648578811369509"
      ]
     },
     "execution_count": 34,
     "metadata": {},
     "output_type": "execute_result"
    }
   ],
   "source": [
    "sum(rounded != log_rep_pred.iloc[:,0])/len(log_rep_pred)"
   ]
  },
  {
   "cell_type": "code",
   "execution_count": null,
   "metadata": {},
   "outputs": [],
   "source": []
  }
 ],
 "metadata": {
  "kernelspec": {
   "display_name": "Python 3",
   "language": "python",
   "name": "python3"
  },
  "language_info": {
   "codemirror_mode": {
    "name": "ipython",
    "version": 3
   },
   "file_extension": ".py",
   "mimetype": "text/x-python",
   "name": "python",
   "nbconvert_exporter": "python",
   "pygments_lexer": "ipython3",
   "version": "3.8.5"
  }
 },
 "nbformat": 4,
 "nbformat_minor": 5
}
